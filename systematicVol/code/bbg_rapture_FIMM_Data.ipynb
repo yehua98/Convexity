{
 "metadata": {
  "name": ""
 },
 "nbformat": 3,
 "nbformat_minor": 0,
 "worksheets": [
  {
   "cells": [
    {
     "cell_type": "code",
     "collapsed": false,
     "input": [
      "import sys\n",
      "import os\n",
      "import pandas as pd\n",
      "import datetime\n",
      "import ConfigParser\n",
      "import json\n",
      "import numpy as np"
     ],
     "language": "python",
     "metadata": {},
     "outputs": [],
     "prompt_number": 1
    },
    {
     "cell_type": "code",
     "collapsed": false,
     "input": [
      "# read the configuration file and set the path to IDPResearch directory\n",
      "config = ConfigParser.RawConfigParser()\n",
      "config.read(os.path.abspath('../../idpresearch.cfg'))\n",
      "sys.path.append(os.path.abspath(config.get('IDPResearch','path')))"
     ],
     "language": "python",
     "metadata": {},
     "outputs": [],
     "prompt_number": 2
    },
    {
     "cell_type": "code",
     "collapsed": false,
     "input": [
      "# load modules of idpresearch\n",
      "from idpresearch import rapturelib\n",
      "from idpresearch import utillib\n",
      "from idpresearch import risklib\n",
      "from idpresearch import siglib\n",
      "from idpresearch import plotlib\n",
      "from idpresearch import iolib"
     ],
     "language": "python",
     "metadata": {},
     "outputs": [],
     "prompt_number": 3
    },
    {
     "cell_type": "code",
     "collapsed": false,
     "input": [
      "params = utillib.PathUtil(projectname = 'FIMM', \n",
      "                          inputcsvdir = os.path.abspath('../data'), \n",
      "                          outputdir = os.path.abspath('../output'),\n",
      "                          resourcedir = os.path.abspath(config.get('IDPResearch','path') + '/resources'))   "
     ],
     "language": "python",
     "metadata": {},
     "outputs": [],
     "prompt_number": 4
    },
    {
     "cell_type": "code",
     "collapsed": false,
     "input": [
      "risk = risklib.Risk()\n",
      "sig = siglib.Sig()\n",
      "plt = plotlib.Plot(params)\n",
      "io = iolib.IO(params)"
     ],
     "language": "python",
     "metadata": {},
     "outputs": [],
     "prompt_number": 5
    },
    {
     "cell_type": "code",
     "collapsed": false,
     "input": [
      "r_url = '54.208.88.106:8665/rapture'\n",
      "r_user = 'rapture'\n",
      "r_password = 'rapture'"
     ],
     "language": "python",
     "metadata": {},
     "outputs": [],
     "prompt_number": 6
    },
    {
     "cell_type": "code",
     "collapsed": false,
     "input": [
      "rap = rapturelib.Rapture(r_url, r_user, r_password)"
     ],
     "language": "python",
     "metadata": {},
     "outputs": [],
     "prompt_number": 7
    },
    {
     "cell_type": "code",
     "collapsed": false,
     "input": [
      "#as roll adjusted data is back adjusted, one has to load data from day 1 everytime.\n",
      "\n",
      "myFile=params.inputcsvdir+'\\FIMMData.csv'\n",
      "\n",
      "start_date='20000101'\n",
      "    \n",
      "print start_date        "
     ],
     "language": "python",
     "metadata": {},
     "outputs": [
      {
       "output_type": "stream",
       "stream": "stdout",
       "text": [
        "20000101\n"
       ]
      }
     ],
     "prompt_number": 8
    },
    {
     "cell_type": "code",
     "collapsed": false,
     "input": [
      "yesterday = datetime.date.today() - datetime.timedelta(1)\n",
      "yesterday = yesterday.strftime('%Y%m%d')\n",
      "today=datetime.date.today()\n",
      "today=today.strftime('%Y%m%d')\n",
      "print yesterday"
     ],
     "language": "python",
     "metadata": {},
     "outputs": [
      {
       "output_type": "stream",
       "stream": "stdout",
       "text": [
        "20131204\n"
       ]
      }
     ],
     "prompt_number": 9
    },
    {
     "cell_type": "code",
     "collapsed": false,
     "input": [
      "fut_ticker = ['ED3', 'ED8', 'ED12', 'ER3', 'ER6', 'ER10', 'L 3', 'L 6', 'L 9', 'ES3', 'ES5', 'BA3', 'BA5'] \n",
      "                          \n",
      "fut2_ticker = ['ED2', 'ED7', 'ED11', 'ER2', 'ER5', 'ER9', 'L 2', 'L 5', 'L 8', 'ES2', 'ES4', 'BA2', 'BA4'] \n",
      "\n"
     ],
     "language": "python",
     "metadata": {},
     "outputs": [],
     "prompt_number": 10
    },
    {
     "cell_type": "code",
     "collapsed": false,
     "input": [
      "fut_ticker_R=[x + ' R:00_0_D Comdty' for x in fut_ticker]\n",
      "fut_ticker_N=[x + ' R:00_0_N Comdty' for x in fut_ticker]\n",
      "fut2_ticker_N=[x + ' R:00_0_N Comdty' for x in fut2_ticker]\n"
     ],
     "language": "python",
     "metadata": {},
     "outputs": [],
     "prompt_number": 11
    },
    {
     "cell_type": "code",
     "collapsed": false,
     "input": [
      "fields = ['PX_LAST'] \n",
      "program_name = 'gethistory'\n",
      "sd = start_date #after first run change the hard coded start date to variable start_date\n",
      "ed = today\n",
      "%time fut1 = rap.request_bloomberg_data(fut_ticker_R,  fields, program_name, start=sd, end=ed)\n",
      "                                      "
     ],
     "language": "python",
     "metadata": {},
     "outputs": [
      {
       "output_type": "stream",
       "stream": "stdout",
       "text": [
        "Wall time: 1min 15s\n"
       ]
      }
     ],
     "prompt_number": 12
    },
    {
     "cell_type": "code",
     "collapsed": false,
     "input": [
      "fields = ['PX_LAST'] \n",
      "program_name = 'gethistory'\n",
      "sd = start_date #after first run change the hard coded start date to variable start_date\n",
      "ed = today\n",
      "%time fut2 = rap.request_bloomberg_data(fut_ticker_N, fields, program_name, start=sd, end=ed)\n",
      "\n"
     ],
     "language": "python",
     "metadata": {},
     "outputs": [
      {
       "output_type": "stream",
       "stream": "stdout",
       "text": [
        "Wall time: 1min 16s\n"
       ]
      }
     ],
     "prompt_number": 13
    },
    {
     "cell_type": "code",
     "collapsed": false,
     "input": [
      "program_name = 'gethistory'\n",
      "sd = start_date #after first run change the hard coded start date to variable start_date\n",
      "ed = today\n",
      "%time fut3 = rap.request_bloomberg_data(fut2_ticker_N, fields, program_name, start=sd, end=ed)\n",
      "                                   "
     ],
     "language": "python",
     "metadata": {},
     "outputs": [
      {
       "output_type": "stream",
       "stream": "stdout",
       "text": [
        "Wall time: 1min 9s\n"
       ]
      }
     ],
     "prompt_number": 14
    },
    {
     "cell_type": "code",
     "collapsed": false,
     "input": [
      "fut1.tail()"
     ],
     "language": "python",
     "metadata": {},
     "outputs": [
      {
       "html": [
        "<div style=\"max-height:1000px;max-width:1500px;overflow:auto;\">\n",
        "<table border=\"1\" class=\"dataframe\">\n",
        "  <thead>\n",
        "    <tr style=\"text-align: right;\">\n",
        "      <th></th>\n",
        "      <th>BA3_R:00_0_D_Comdty/PX_LAST</th>\n",
        "      <th>BA5_R:00_0_D_Comdty/PX_LAST</th>\n",
        "      <th>ED12_R:00_0_D_Comdty/PX_LAST</th>\n",
        "      <th>ED3_R:00_0_D_Comdty/PX_LAST</th>\n",
        "      <th>ED8_R:00_0_D_Comdty/PX_LAST</th>\n",
        "      <th>ER10_R:00_0_D_Comdty/PX_LAST</th>\n",
        "      <th>ER3_R:00_0_D_Comdty/PX_LAST</th>\n",
        "      <th>ER6_R:00_0_D_Comdty/PX_LAST</th>\n",
        "      <th>ES3_R:00_0_D_Comdty/PX_LAST</th>\n",
        "      <th>ES5_R:00_0_D_Comdty/PX_LAST</th>\n",
        "      <th>L_3_R:00_0_D_Comdty/PX_LAST</th>\n",
        "      <th>L_6_R:00_0_D_Comdty/PX_LAST</th>\n",
        "      <th>L_9_R:00_0_D_Comdty/PX_LAST</th>\n",
        "    </tr>\n",
        "  </thead>\n",
        "  <tbody>\n",
        "    <tr>\n",
        "      <th>2013-11-29</th>\n",
        "      <td> 98.73</td>\n",
        "      <td> 98.67</td>\n",
        "      <td> 98.37</td>\n",
        "      <td>  99.72</td>\n",
        "      <td>  99.32</td>\n",
        "      <td> 99.285</td>\n",
        "      <td> 99.745</td>\n",
        "      <td> 99.655</td>\n",
        "      <td> 100.05</td>\n",
        "      <td> 100.03</td>\n",
        "      <td> 99.405</td>\n",
        "      <td>  99.16</td>\n",
        "      <td>  98.65</td>\n",
        "    </tr>\n",
        "    <tr>\n",
        "      <th>2013-12-02</th>\n",
        "      <td> 98.73</td>\n",
        "      <td> 98.65</td>\n",
        "      <td> 98.29</td>\n",
        "      <td> 99.725</td>\n",
        "      <td> 99.295</td>\n",
        "      <td>  99.28</td>\n",
        "      <td> 99.745</td>\n",
        "      <td> 99.655</td>\n",
        "      <td> 100.05</td>\n",
        "      <td> 100.02</td>\n",
        "      <td>  99.39</td>\n",
        "      <td> 99.115</td>\n",
        "      <td> 98.575</td>\n",
        "    </tr>\n",
        "    <tr>\n",
        "      <th>2013-12-03</th>\n",
        "      <td> 98.75</td>\n",
        "      <td> 98.69</td>\n",
        "      <td> 98.33</td>\n",
        "      <td>  99.72</td>\n",
        "      <td> 99.305</td>\n",
        "      <td>   99.3</td>\n",
        "      <td> 99.745</td>\n",
        "      <td>  99.66</td>\n",
        "      <td> 100.04</td>\n",
        "      <td> 100.03</td>\n",
        "      <td>  99.39</td>\n",
        "      <td>  99.11</td>\n",
        "      <td>  98.57</td>\n",
        "    </tr>\n",
        "    <tr>\n",
        "      <th>2013-12-04</th>\n",
        "      <td> 98.77</td>\n",
        "      <td> 98.71</td>\n",
        "      <td> 98.26</td>\n",
        "      <td>  99.73</td>\n",
        "      <td>  99.28</td>\n",
        "      <td> 99.255</td>\n",
        "      <td> 99.735</td>\n",
        "      <td>  99.63</td>\n",
        "      <td> 100.04</td>\n",
        "      <td> 100.02</td>\n",
        "      <td>   99.4</td>\n",
        "      <td>  99.12</td>\n",
        "      <td>  98.57</td>\n",
        "    </tr>\n",
        "    <tr>\n",
        "      <th>2013-12-05</th>\n",
        "      <td> 98.76</td>\n",
        "      <td> 98.68</td>\n",
        "      <td> 98.24</td>\n",
        "      <td>  99.73</td>\n",
        "      <td>  99.27</td>\n",
        "      <td>   99.2</td>\n",
        "      <td>   99.7</td>\n",
        "      <td>  99.59</td>\n",
        "      <td> 100.02</td>\n",
        "      <td>  99.99</td>\n",
        "      <td>   99.4</td>\n",
        "      <td>  99.13</td>\n",
        "      <td>  98.55</td>\n",
        "    </tr>\n",
        "  </tbody>\n",
        "</table>\n",
        "</div>"
       ],
       "metadata": {},
       "output_type": "pyout",
       "prompt_number": 15,
       "text": [
        "           BA3_R:00_0_D_Comdty/PX_LAST BA5_R:00_0_D_Comdty/PX_LAST  \\\n",
        "2013-11-29                       98.73                       98.67   \n",
        "2013-12-02                       98.73                       98.65   \n",
        "2013-12-03                       98.75                       98.69   \n",
        "2013-12-04                       98.77                       98.71   \n",
        "2013-12-05                       98.76                       98.68   \n",
        "\n",
        "           ED12_R:00_0_D_Comdty/PX_LAST ED3_R:00_0_D_Comdty/PX_LAST  \\\n",
        "2013-11-29                        98.37                       99.72   \n",
        "2013-12-02                        98.29                      99.725   \n",
        "2013-12-03                        98.33                       99.72   \n",
        "2013-12-04                        98.26                       99.73   \n",
        "2013-12-05                        98.24                       99.73   \n",
        "\n",
        "           ED8_R:00_0_D_Comdty/PX_LAST ER10_R:00_0_D_Comdty/PX_LAST  \\\n",
        "2013-11-29                       99.32                       99.285   \n",
        "2013-12-02                      99.295                        99.28   \n",
        "2013-12-03                      99.305                         99.3   \n",
        "2013-12-04                       99.28                       99.255   \n",
        "2013-12-05                       99.27                         99.2   \n",
        "\n",
        "           ER3_R:00_0_D_Comdty/PX_LAST ER6_R:00_0_D_Comdty/PX_LAST  \\\n",
        "2013-11-29                      99.745                      99.655   \n",
        "2013-12-02                      99.745                      99.655   \n",
        "2013-12-03                      99.745                       99.66   \n",
        "2013-12-04                      99.735                       99.63   \n",
        "2013-12-05                        99.7                       99.59   \n",
        "\n",
        "           ES3_R:00_0_D_Comdty/PX_LAST ES5_R:00_0_D_Comdty/PX_LAST  \\\n",
        "2013-11-29                      100.05                      100.03   \n",
        "2013-12-02                      100.05                      100.02   \n",
        "2013-12-03                      100.04                      100.03   \n",
        "2013-12-04                      100.04                      100.02   \n",
        "2013-12-05                      100.02                       99.99   \n",
        "\n",
        "           L_3_R:00_0_D_Comdty/PX_LAST L_6_R:00_0_D_Comdty/PX_LAST  \\\n",
        "2013-11-29                      99.405                       99.16   \n",
        "2013-12-02                       99.39                      99.115   \n",
        "2013-12-03                       99.39                       99.11   \n",
        "2013-12-04                        99.4                       99.12   \n",
        "2013-12-05                        99.4                       99.13   \n",
        "\n",
        "           L_9_R:00_0_D_Comdty/PX_LAST  \n",
        "2013-11-29                       98.65  \n",
        "2013-12-02                      98.575  \n",
        "2013-12-03                       98.57  \n",
        "2013-12-04                       98.57  \n",
        "2013-12-05                       98.55  "
       ]
      }
     ],
     "prompt_number": 15
    },
    {
     "cell_type": "code",
     "collapsed": false,
     "input": [
      "fut2.tail()"
     ],
     "language": "python",
     "metadata": {},
     "outputs": [
      {
       "html": [
        "<div style=\"max-height:1000px;max-width:1500px;overflow:auto;\">\n",
        "<table border=\"1\" class=\"dataframe\">\n",
        "  <thead>\n",
        "    <tr style=\"text-align: right;\">\n",
        "      <th></th>\n",
        "      <th>BA3_R:00_0_N_Comdty/PX_LAST</th>\n",
        "      <th>BA5_R:00_0_N_Comdty/PX_LAST</th>\n",
        "      <th>ED12_R:00_0_N_Comdty/PX_LAST</th>\n",
        "      <th>ED3_R:00_0_N_Comdty/PX_LAST</th>\n",
        "      <th>ED8_R:00_0_N_Comdty/PX_LAST</th>\n",
        "      <th>ER10_R:00_0_N_Comdty/PX_LAST</th>\n",
        "      <th>ER3_R:00_0_N_Comdty/PX_LAST</th>\n",
        "      <th>ER6_R:00_0_N_Comdty/PX_LAST</th>\n",
        "      <th>ES3_R:00_0_N_Comdty/PX_LAST</th>\n",
        "      <th>ES5_R:00_0_N_Comdty/PX_LAST</th>\n",
        "      <th>L_3_R:00_0_N_Comdty/PX_LAST</th>\n",
        "      <th>L_6_R:00_0_N_Comdty/PX_LAST</th>\n",
        "      <th>L_9_R:00_0_N_Comdty/PX_LAST</th>\n",
        "    </tr>\n",
        "  </thead>\n",
        "  <tbody>\n",
        "    <tr>\n",
        "      <th>2013-11-29</th>\n",
        "      <td> 98.73</td>\n",
        "      <td> 98.67</td>\n",
        "      <td> 98.37</td>\n",
        "      <td>  99.72</td>\n",
        "      <td>  99.32</td>\n",
        "      <td> 99.285</td>\n",
        "      <td> 99.745</td>\n",
        "      <td> 99.655</td>\n",
        "      <td> 100.05</td>\n",
        "      <td> 100.03</td>\n",
        "      <td> 99.405</td>\n",
        "      <td>  99.16</td>\n",
        "      <td>  98.65</td>\n",
        "    </tr>\n",
        "    <tr>\n",
        "      <th>2013-12-02</th>\n",
        "      <td> 98.73</td>\n",
        "      <td> 98.65</td>\n",
        "      <td> 98.29</td>\n",
        "      <td> 99.725</td>\n",
        "      <td> 99.295</td>\n",
        "      <td>  99.28</td>\n",
        "      <td> 99.745</td>\n",
        "      <td> 99.655</td>\n",
        "      <td> 100.05</td>\n",
        "      <td> 100.02</td>\n",
        "      <td>  99.39</td>\n",
        "      <td> 99.115</td>\n",
        "      <td> 98.575</td>\n",
        "    </tr>\n",
        "    <tr>\n",
        "      <th>2013-12-03</th>\n",
        "      <td> 98.75</td>\n",
        "      <td> 98.69</td>\n",
        "      <td> 98.33</td>\n",
        "      <td>  99.72</td>\n",
        "      <td> 99.305</td>\n",
        "      <td>   99.3</td>\n",
        "      <td> 99.745</td>\n",
        "      <td>  99.66</td>\n",
        "      <td> 100.04</td>\n",
        "      <td> 100.03</td>\n",
        "      <td>  99.39</td>\n",
        "      <td>  99.11</td>\n",
        "      <td>  98.57</td>\n",
        "    </tr>\n",
        "    <tr>\n",
        "      <th>2013-12-04</th>\n",
        "      <td> 98.77</td>\n",
        "      <td> 98.71</td>\n",
        "      <td> 98.26</td>\n",
        "      <td>  99.73</td>\n",
        "      <td>  99.28</td>\n",
        "      <td> 99.255</td>\n",
        "      <td> 99.735</td>\n",
        "      <td>  99.63</td>\n",
        "      <td> 100.04</td>\n",
        "      <td> 100.02</td>\n",
        "      <td>   99.4</td>\n",
        "      <td>  99.12</td>\n",
        "      <td>  98.57</td>\n",
        "    </tr>\n",
        "    <tr>\n",
        "      <th>2013-12-05</th>\n",
        "      <td> 98.76</td>\n",
        "      <td> 98.68</td>\n",
        "      <td> 98.24</td>\n",
        "      <td>  99.73</td>\n",
        "      <td>  99.27</td>\n",
        "      <td>   99.2</td>\n",
        "      <td>   99.7</td>\n",
        "      <td>  99.59</td>\n",
        "      <td> 100.02</td>\n",
        "      <td>  99.99</td>\n",
        "      <td>   99.4</td>\n",
        "      <td>  99.13</td>\n",
        "      <td>  98.55</td>\n",
        "    </tr>\n",
        "  </tbody>\n",
        "</table>\n",
        "</div>"
       ],
       "metadata": {},
       "output_type": "pyout",
       "prompt_number": 16,
       "text": [
        "           BA3_R:00_0_N_Comdty/PX_LAST BA5_R:00_0_N_Comdty/PX_LAST  \\\n",
        "2013-11-29                       98.73                       98.67   \n",
        "2013-12-02                       98.73                       98.65   \n",
        "2013-12-03                       98.75                       98.69   \n",
        "2013-12-04                       98.77                       98.71   \n",
        "2013-12-05                       98.76                       98.68   \n",
        "\n",
        "           ED12_R:00_0_N_Comdty/PX_LAST ED3_R:00_0_N_Comdty/PX_LAST  \\\n",
        "2013-11-29                        98.37                       99.72   \n",
        "2013-12-02                        98.29                      99.725   \n",
        "2013-12-03                        98.33                       99.72   \n",
        "2013-12-04                        98.26                       99.73   \n",
        "2013-12-05                        98.24                       99.73   \n",
        "\n",
        "           ED8_R:00_0_N_Comdty/PX_LAST ER10_R:00_0_N_Comdty/PX_LAST  \\\n",
        "2013-11-29                       99.32                       99.285   \n",
        "2013-12-02                      99.295                        99.28   \n",
        "2013-12-03                      99.305                         99.3   \n",
        "2013-12-04                       99.28                       99.255   \n",
        "2013-12-05                       99.27                         99.2   \n",
        "\n",
        "           ER3_R:00_0_N_Comdty/PX_LAST ER6_R:00_0_N_Comdty/PX_LAST  \\\n",
        "2013-11-29                      99.745                      99.655   \n",
        "2013-12-02                      99.745                      99.655   \n",
        "2013-12-03                      99.745                       99.66   \n",
        "2013-12-04                      99.735                       99.63   \n",
        "2013-12-05                        99.7                       99.59   \n",
        "\n",
        "           ES3_R:00_0_N_Comdty/PX_LAST ES5_R:00_0_N_Comdty/PX_LAST  \\\n",
        "2013-11-29                      100.05                      100.03   \n",
        "2013-12-02                      100.05                      100.02   \n",
        "2013-12-03                      100.04                      100.03   \n",
        "2013-12-04                      100.04                      100.02   \n",
        "2013-12-05                      100.02                       99.99   \n",
        "\n",
        "           L_3_R:00_0_N_Comdty/PX_LAST L_6_R:00_0_N_Comdty/PX_LAST  \\\n",
        "2013-11-29                      99.405                       99.16   \n",
        "2013-12-02                       99.39                      99.115   \n",
        "2013-12-03                       99.39                       99.11   \n",
        "2013-12-04                        99.4                       99.12   \n",
        "2013-12-05                        99.4                       99.13   \n",
        "\n",
        "           L_9_R:00_0_N_Comdty/PX_LAST  \n",
        "2013-11-29                       98.65  \n",
        "2013-12-02                      98.575  \n",
        "2013-12-03                       98.57  \n",
        "2013-12-04                       98.57  \n",
        "2013-12-05                       98.55  "
       ]
      }
     ],
     "prompt_number": 16
    },
    {
     "cell_type": "code",
     "collapsed": false,
     "input": [
      "resp = rap.create_authority('DeltaOne', 'Series')"
     ],
     "language": "python",
     "metadata": {},
     "outputs": [],
     "prompt_number": 17
    },
    {
     "cell_type": "code",
     "collapsed": false,
     "input": [
      "for idx,column in enumerate(fut1):\n",
      "    newCol = (fut1.iloc[:,idx]).dropna()\n",
      "    resp = rap.put_series_data('DeltaOne', newCol, prefix='FI/Fut')\n"
     ],
     "language": "python",
     "metadata": {},
     "outputs": [],
     "prompt_number": 18
    },
    {
     "cell_type": "code",
     "collapsed": false,
     "input": [
      "for idx,column in enumerate(fut2):\n",
      "    newCol = (fut2.iloc[:,idx]).dropna()\n",
      "    resp = rap.put_series_data('DeltaOne', newCol, prefix='FI/Fut')\n"
     ],
     "language": "python",
     "metadata": {},
     "outputs": [],
     "prompt_number": 19
    },
    {
     "cell_type": "code",
     "collapsed": false,
     "input": [
      "for idx,column in enumerate(fut3):\n",
      "    newCol = (fut3.iloc[:,idx]).dropna()\n",
      "    resp = rap.put_series_data('DeltaOne', newCol, prefix='FI/Fut')\n"
     ],
     "language": "python",
     "metadata": {},
     "outputs": [],
     "prompt_number": 20
    },
    {
     "cell_type": "code",
     "collapsed": false,
     "input": [
      "#rap.delete_authority('sytematicVol','Series')"
     ],
     "language": "python",
     "metadata": {},
     "outputs": [],
     "prompt_number": 21
    },
    {
     "cell_type": "code",
     "collapsed": false,
     "input": [
      "fut1_ticker=[('FI/Fut/'+ x + '/PX_LAST').replace(' ','_')  for x in fut_ticker_R]\n",
      "fut2_ticker=[('FI/Fut/'+ x + '/PX_LAST').replace(' ','_')  for x in fut_ticker_N]\n",
      "fut3_ticker=[('FI/Fut/'+ x + '/PX_LAST').replace(' ','_')  for x in fut2_ticker_N]\n",
      "\n"
     ],
     "language": "python",
     "metadata": {},
     "outputs": [],
     "prompt_number": 22
    },
    {
     "cell_type": "code",
     "collapsed": false,
     "input": [
      "uris = fut1_ticker+fut2_ticker+fut3_ticker\n",
      "\n",
      "\n",
      "resp = rap.get_series_data('DeltaOne',  uris,start='19950101',end=today)\n",
      "resp = resp.ffill() #forward fill the gaps in data\n"
     ],
     "language": "python",
     "metadata": {},
     "outputs": [],
     "prompt_number": 23
    },
    {
     "cell_type": "code",
     "collapsed": false,
     "input": [
      "resp.columns=[x.split('/')[2].replace('R:00_0_','_').replace('_',' ') for x in resp.columns]\n",
      "resp.ffill()"
     ],
     "language": "python",
     "metadata": {},
     "outputs": [
      {
       "html": [
        "<pre>\n",
        "&lt;class 'pandas.core.frame.DataFrame'&gt;\n",
        "DatetimeIndex: 3422 entries, 2000-01-04 00:00:00 to 2013-12-05 00:00:00\n",
        "Data columns (total 39 columns):\n",
        "ED3  D Comdty     3422  non-null values\n",
        "ED8  D Comdty     3422  non-null values\n",
        "ED12  D Comdty    3422  non-null values\n",
        "ER3  D Comdty     3422  non-null values\n",
        "ER6  D Comdty     3422  non-null values\n",
        "ER10  D Comdty    3422  non-null values\n",
        "L 3  D Comdty     3422  non-null values\n",
        "L 6  D Comdty     3422  non-null values\n",
        "L 9  D Comdty     3422  non-null values\n",
        "ES3  D Comdty     3422  non-null values\n",
        "ES5  D Comdty     3422  non-null values\n",
        "BA3  D Comdty     3422  non-null values\n",
        "BA5  D Comdty     3422  non-null values\n",
        "ED3  N Comdty     3422  non-null values\n",
        "ED8  N Comdty     3422  non-null values\n",
        "ED12  N Comdty    3422  non-null values\n",
        "ER3  N Comdty     3422  non-null values\n",
        "ER6  N Comdty     3422  non-null values\n",
        "ER10  N Comdty    3422  non-null values\n",
        "L 3  N Comdty     3422  non-null values\n",
        "L 6  N Comdty     3422  non-null values\n",
        "L 9  N Comdty     3422  non-null values\n",
        "ES3  N Comdty     3422  non-null values\n",
        "ES5  N Comdty     3422  non-null values\n",
        "BA3  N Comdty     3422  non-null values\n",
        "BA5  N Comdty     3422  non-null values\n",
        "ED2  N Comdty     3422  non-null values\n",
        "ED7  N Comdty     3422  non-null values\n",
        "ED11  N Comdty    3422  non-null values\n",
        "ER2  N Comdty     3422  non-null values\n",
        "ER5  N Comdty     3422  non-null values\n",
        "ER9  N Comdty     3422  non-null values\n",
        "L 2  N Comdty     3422  non-null values\n",
        "L 5  N Comdty     3422  non-null values\n",
        "L 8  N Comdty     3422  non-null values\n",
        "ES2  N Comdty     3422  non-null values\n",
        "ES4  N Comdty     3422  non-null values\n",
        "BA2  N Comdty     3422  non-null values\n",
        "BA4  N Comdty     3422  non-null values\n",
        "dtypes: object(39)\n",
        "</pre>"
       ],
       "metadata": {},
       "output_type": "pyout",
       "prompt_number": 24,
       "text": [
        "<class 'pandas.core.frame.DataFrame'>\n",
        "DatetimeIndex: 3422 entries, 2000-01-04 00:00:00 to 2013-12-05 00:00:00\n",
        "Data columns (total 39 columns):\n",
        "ED3  D Comdty     3422  non-null values\n",
        "ED8  D Comdty     3422  non-null values\n",
        "ED12  D Comdty    3422  non-null values\n",
        "ER3  D Comdty     3422  non-null values\n",
        "ER6  D Comdty     3422  non-null values\n",
        "ER10  D Comdty    3422  non-null values\n",
        "L 3  D Comdty     3422  non-null values\n",
        "L 6  D Comdty     3422  non-null values\n",
        "L 9  D Comdty     3422  non-null values\n",
        "ES3  D Comdty     3422  non-null values\n",
        "ES5  D Comdty     3422  non-null values\n",
        "BA3  D Comdty     3422  non-null values\n",
        "BA5  D Comdty     3422  non-null values\n",
        "ED3  N Comdty     3422  non-null values\n",
        "ED8  N Comdty     3422  non-null values\n",
        "ED12  N Comdty    3422  non-null values\n",
        "ER3  N Comdty     3422  non-null values\n",
        "ER6  N Comdty     3422  non-null values\n",
        "ER10  N Comdty    3422  non-null values\n",
        "L 3  N Comdty     3422  non-null values\n",
        "L 6  N Comdty     3422  non-null values\n",
        "L 9  N Comdty     3422  non-null values\n",
        "ES3  N Comdty     3422  non-null values\n",
        "ES5  N Comdty     3422  non-null values\n",
        "BA3  N Comdty     3422  non-null values\n",
        "BA5  N Comdty     3422  non-null values\n",
        "ED2  N Comdty     3422  non-null values\n",
        "ED7  N Comdty     3422  non-null values\n",
        "ED11  N Comdty    3422  non-null values\n",
        "ER2  N Comdty     3422  non-null values\n",
        "ER5  N Comdty     3422  non-null values\n",
        "ER9  N Comdty     3422  non-null values\n",
        "L 2  N Comdty     3422  non-null values\n",
        "L 5  N Comdty     3422  non-null values\n",
        "L 8  N Comdty     3422  non-null values\n",
        "ES2  N Comdty     3422  non-null values\n",
        "ES4  N Comdty     3422  non-null values\n",
        "BA2  N Comdty     3422  non-null values\n",
        "BA4  N Comdty     3422  non-null values\n",
        "dtypes: object(39)"
       ]
      }
     ],
     "prompt_number": 24
    },
    {
     "cell_type": "code",
     "collapsed": false,
     "input": [
      "resp.to_csv(params.inputcsvdir+'\\FIMMData.csv',mode='w', header=True)"
     ],
     "language": "python",
     "metadata": {},
     "outputs": [],
     "prompt_number": 25
    },
    {
     "cell_type": "code",
     "collapsed": false,
     "input": [],
     "language": "python",
     "metadata": {},
     "outputs": [],
     "prompt_number": 25
    }
   ],
   "metadata": {}
  }
 ]
}