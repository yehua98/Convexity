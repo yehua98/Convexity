{
 "metadata": {
  "name": ""
 },
 "nbformat": 3,
 "nbformat_minor": 0,
 "worksheets": [
  {
   "cells": [
    {
     "cell_type": "code",
     "collapsed": false,
     "input": [
      "import sys\n",
      "import os\n",
      "import pandas as pd\n",
      "import datetime\n",
      "import ConfigParser\n",
      "import json\n",
      "import numpy as np"
     ],
     "language": "python",
     "metadata": {},
     "outputs": [],
     "prompt_number": 124
    },
    {
     "cell_type": "code",
     "collapsed": false,
     "input": [
      "# read the configuration file and set the path to IDPResearch directory\n",
      "config = ConfigParser.RawConfigParser()\n",
      "config.read(os.path.abspath('../../idpresearch.cfg'))\n",
      "sys.path.append(os.path.abspath(config.get('IDPResearch','path')))"
     ],
     "language": "python",
     "metadata": {},
     "outputs": [],
     "prompt_number": 125
    },
    {
     "cell_type": "code",
     "collapsed": false,
     "input": [
      "# load modules of idpresearch\n",
      "from idpresearch import rapturelib\n",
      "from idpresearch import utillib\n",
      "from idpresearch import risklib\n",
      "from idpresearch import siglib\n",
      "from idpresearch import plotlib\n",
      "from idpresearch import iolib"
     ],
     "language": "python",
     "metadata": {},
     "outputs": [],
     "prompt_number": 126
    },
    {
     "cell_type": "code",
     "collapsed": false,
     "input": [
      "params = utillib.PathUtil(projectname = 'swaptionVol', \n",
      "                          inputcsvdir = os.path.abspath('../data'), \n",
      "                          outputdir = os.path.abspath('../output'),\n",
      "                          resourcedir = os.path.abspath(config.get('IDPResearch','path') + '/resources'))   "
     ],
     "language": "python",
     "metadata": {},
     "outputs": [],
     "prompt_number": 127
    },
    {
     "cell_type": "code",
     "collapsed": false,
     "input": [
      "risk = risklib.Risk()\n",
      "sig = siglib.Sig()\n",
      "plt = plotlib.Plot(params)\n",
      "io = iolib.IO(params)"
     ],
     "language": "python",
     "metadata": {},
     "outputs": [],
     "prompt_number": 128
    },
    {
     "cell_type": "code",
     "collapsed": false,
     "input": [
      "r_url = '54.208.88.106:8665/rapture'\n",
      "r_user = 'rapture'\n",
      "r_password = 'rapture'"
     ],
     "language": "python",
     "metadata": {},
     "outputs": [],
     "prompt_number": 129
    },
    {
     "cell_type": "code",
     "collapsed": false,
     "input": [
      "rap = rapturelib.Rapture(r_url, r_user, r_password, log_level=2)\n",
      "resp = rap.create_authority('systematicVol', 'Series')"
     ],
     "language": "python",
     "metadata": {},
     "outputs": [],
     "prompt_number": 130
    },
    {
     "cell_type": "code",
     "collapsed": false,
     "input": [
      "myFile=params.inputcsvdir+'\\SwaptionVolData.csv'\n",
      "\n",
      "if os.path.isfile(myFile):\n",
      "    df = pd.read_csv(params.inputcsvdir+'\\SwaptionVolData.csv', index_col=0, parse_dates=True)\n",
      "    start_date=df.index[-1] + datetime.timedelta(-1)\n",
      "    start_date = start_date.strftime('%Y%m%d')\n",
      "    print start_date\n",
      "    \n",
      "else:\n",
      "    start_date='20000101'\n",
      "    \n",
      "print start_date        "
     ],
     "language": "python",
     "metadata": {},
     "outputs": [
      {
       "output_type": "stream",
       "stream": "stdout",
       "text": [
        "20131206\n",
        "20131206\n"
       ]
      }
     ],
     "prompt_number": 131
    },
    {
     "cell_type": "code",
     "collapsed": false,
     "input": [
      "df.columns=[( x + '/PX_LAST').replace(' ','_')  for x in df.columns]"
     ],
     "language": "python",
     "metadata": {},
     "outputs": [],
     "prompt_number": 132
    },
    {
     "cell_type": "code",
     "collapsed": false,
     "input": [
      "for idx,column in enumerate(df):\n",
      "    newCol = (df.iloc[:,idx]).dropna()\n",
      "    resp = rap.put_series_data('systematicVol', newCol, prefix='swaption/vol')"
     ],
     "language": "python",
     "metadata": {},
     "outputs": [],
     "prompt_number": 133
    },
    {
     "cell_type": "code",
     "collapsed": false,
     "input": [
      "yesterday = datetime.date.today() - datetime.timedelta(1)\n",
      "yesterday = yesterday.strftime('%Y%m%d')\n",
      "today=datetime.date.today()\n",
      "today=today.strftime('%Y%m%d')\n",
      "print yesterday"
     ],
     "language": "python",
     "metadata": {},
     "outputs": [
      {
       "output_type": "stream",
       "stream": "stdout",
       "text": [
        "20131204\n"
       ]
      }
     ],
     "prompt_number": 134
    },
    {
     "cell_type": "code",
     "collapsed": false,
     "input": [
      "fwdRate_ticker = ['USFS0C10', 'EUSAC10', 'BPSW0C10'] \n",
      "                          \n",
      "blackVol_ticker = ['USSV0C10', 'EUSV0C10', 'BPSV0C10'] \n",
      "\n",
      "strPremium_ticker = ['USSP0C10', 'EUSP0C10','BPSP0C10']\n",
      "\n",
      "blackVol1M_ticker = ['USSV0A10', 'EUSV0A10', 'BPSV0A10'] \n",
      "\n",
      "blackVol1Y_ticker = ['USSV0110', 'EUSV0110', 'BPSV0110']\n"
     ],
     "language": "python",
     "metadata": {},
     "outputs": [],
     "prompt_number": 135
    },
    {
     "cell_type": "code",
     "collapsed": false,
     "input": [
      "fwdRate_ticker=[x + ' Curncy' for x in fwdRate_ticker]\n",
      "blackVol_ticker=[x + ' Curncy' for x in blackVol_ticker]\n",
      "strPremium_ticker=[x + ' Curncy' for x in strPremium_ticker]\n",
      "blackVol1M_ticker=[x + ' Curncy' for x in blackVol1M_ticker]\n",
      "blackVol1Y_ticker=[x + ' Curncy' for x in blackVol1Y_ticker]\n"
     ],
     "language": "python",
     "metadata": {},
     "outputs": [],
     "prompt_number": 136
    },
    {
     "cell_type": "code",
     "collapsed": false,
     "input": [
      "fields = ['PX_LAST'] \n",
      "program_name = 'gethistory'\n",
      "sd = start_date #after first run change the hard coded start date to variable start_date\n",
      "ed = today\n",
      "%time fwdRate = rap.request_bloomberg_data(fwdRate_ticker,  fields, program_name, start=sd, end=ed)\n",
      "                                      "
     ],
     "language": "python",
     "metadata": {},
     "outputs": [
      {
       "output_type": "stream",
       "stream": "stderr",
       "text": [
        "[2013-12-05 21:43] INFO: idpresearch.rapturelib: Identifier for Bloomberg request - Raptee1a15a2e2\n"
       ]
      },
      {
       "output_type": "stream",
       "stream": "stderr",
       "text": [
        "[2013-12-05 21:43] INFO: idpresearch.rapturelib: Calling - //bloomberg.configuration/statusFTP...\n"
       ]
      },
      {
       "output_type": "stream",
       "stream": "stderr",
       "text": [
        "[2013-12-05 21:44] INFO: idpresearch.rapturelib: Calling - //bloomberg.configuration/statusFTP...\n"
       ]
      },
      {
       "output_type": "stream",
       "stream": "stderr",
       "text": [
        "[2013-12-05 21:44] INFO: idpresearch.rapturelib: Calling - //bloomberg.configuration/statusFTP...\n"
       ]
      },
      {
       "output_type": "stream",
       "stream": "stderr",
       "text": [
        "[2013-12-05 21:44] INFO: idpresearch.rapturelib: Calling - //bloomberg.configuration/statusFTP...\n"
       ]
      },
      {
       "output_type": "stream",
       "stream": "stderr",
       "text": [
        "[2013-12-05 21:44] INFO: idpresearch.rapturelib: Calling - //bloomberg.configuration/statusFTP...\n"
       ]
      },
      {
       "output_type": "stream",
       "stream": "stderr",
       "text": [
        "[2013-12-05 21:44] INFO: idpresearch.rapturelib: Calling - //bloomberg.configuration/statusFTP...\n"
       ]
      },
      {
       "output_type": "stream",
       "stream": "stderr",
       "text": [
        "[2013-12-05 21:44] ERROR: idpresearch.rapturelib: rapture.common.exception.RaptException: UUDecoder: No begin line.\n"
       ]
      },
      {
       "ename": "ValueError",
       "evalue": "malformed string",
       "output_type": "pyerr",
       "traceback": [
        "\u001b[1;31m---------------------------------------------------------------------------\u001b[0m\n\u001b[1;31mValueError\u001b[0m                                Traceback (most recent call last)",
        "\u001b[1;32m<ipython-input-137-72434a601d0b>\u001b[0m in \u001b[0;36m<module>\u001b[1;34m()\u001b[0m\n\u001b[0;32m      3\u001b[0m \u001b[0msd\u001b[0m \u001b[1;33m=\u001b[0m \u001b[0mstart_date\u001b[0m \u001b[1;31m#after first run change the hard coded start date to variable start_date\u001b[0m\u001b[1;33m\u001b[0m\u001b[0m\n\u001b[0;32m      4\u001b[0m \u001b[0med\u001b[0m \u001b[1;33m=\u001b[0m \u001b[0mtoday\u001b[0m\u001b[1;33m\u001b[0m\u001b[0m\n\u001b[1;32m----> 5\u001b[1;33m \u001b[0mget_ipython\u001b[0m\u001b[1;33m(\u001b[0m\u001b[1;33m)\u001b[0m\u001b[1;33m.\u001b[0m\u001b[0mmagic\u001b[0m\u001b[1;33m(\u001b[0m\u001b[1;34mu'time fwdRate = rap.request_bloomberg_data(fwdRate_ticker,  fields, program_name, start=sd, end=ed)'\u001b[0m\u001b[1;33m)\u001b[0m\u001b[1;33m\u001b[0m\u001b[0m\n\u001b[0m\u001b[0;32m      6\u001b[0m \u001b[1;33m\u001b[0m\u001b[0m\n",
        "\u001b[1;32mC:\\Anaconda\\lib\\site-packages\\IPython\\core\\interactiveshell.pyc\u001b[0m in \u001b[0;36mmagic\u001b[1;34m(self, arg_s)\u001b[0m\n\u001b[0;32m   2164\u001b[0m         \u001b[0mmagic_name\u001b[0m\u001b[1;33m,\u001b[0m \u001b[0m_\u001b[0m\u001b[1;33m,\u001b[0m \u001b[0mmagic_arg_s\u001b[0m \u001b[1;33m=\u001b[0m \u001b[0marg_s\u001b[0m\u001b[1;33m.\u001b[0m\u001b[0mpartition\u001b[0m\u001b[1;33m(\u001b[0m\u001b[1;34m' '\u001b[0m\u001b[1;33m)\u001b[0m\u001b[1;33m\u001b[0m\u001b[0m\n\u001b[0;32m   2165\u001b[0m         \u001b[0mmagic_name\u001b[0m \u001b[1;33m=\u001b[0m \u001b[0mmagic_name\u001b[0m\u001b[1;33m.\u001b[0m\u001b[0mlstrip\u001b[0m\u001b[1;33m(\u001b[0m\u001b[0mprefilter\u001b[0m\u001b[1;33m.\u001b[0m\u001b[0mESC_MAGIC\u001b[0m\u001b[1;33m)\u001b[0m\u001b[1;33m\u001b[0m\u001b[0m\n\u001b[1;32m-> 2166\u001b[1;33m         \u001b[1;32mreturn\u001b[0m \u001b[0mself\u001b[0m\u001b[1;33m.\u001b[0m\u001b[0mrun_line_magic\u001b[0m\u001b[1;33m(\u001b[0m\u001b[0mmagic_name\u001b[0m\u001b[1;33m,\u001b[0m \u001b[0mmagic_arg_s\u001b[0m\u001b[1;33m)\u001b[0m\u001b[1;33m\u001b[0m\u001b[0m\n\u001b[0m\u001b[0;32m   2167\u001b[0m \u001b[1;33m\u001b[0m\u001b[0m\n\u001b[0;32m   2168\u001b[0m     \u001b[1;31m#-------------------------------------------------------------------------\u001b[0m\u001b[1;33m\u001b[0m\u001b[1;33m\u001b[0m\u001b[0m\n",
        "\u001b[1;32mC:\\Anaconda\\lib\\site-packages\\IPython\\core\\interactiveshell.pyc\u001b[0m in \u001b[0;36mrun_line_magic\u001b[1;34m(self, magic_name, line)\u001b[0m\n\u001b[0;32m   2085\u001b[0m                 \u001b[0mkwargs\u001b[0m\u001b[1;33m[\u001b[0m\u001b[1;34m'local_ns'\u001b[0m\u001b[1;33m]\u001b[0m \u001b[1;33m=\u001b[0m \u001b[0msys\u001b[0m\u001b[1;33m.\u001b[0m\u001b[0m_getframe\u001b[0m\u001b[1;33m(\u001b[0m\u001b[0mstack_depth\u001b[0m\u001b[1;33m)\u001b[0m\u001b[1;33m.\u001b[0m\u001b[0mf_locals\u001b[0m\u001b[1;33m\u001b[0m\u001b[0m\n\u001b[0;32m   2086\u001b[0m             \u001b[1;32mwith\u001b[0m \u001b[0mself\u001b[0m\u001b[1;33m.\u001b[0m\u001b[0mbuiltin_trap\u001b[0m\u001b[1;33m:\u001b[0m\u001b[1;33m\u001b[0m\u001b[0m\n\u001b[1;32m-> 2087\u001b[1;33m                 \u001b[0mresult\u001b[0m \u001b[1;33m=\u001b[0m \u001b[0mfn\u001b[0m\u001b[1;33m(\u001b[0m\u001b[1;33m*\u001b[0m\u001b[0margs\u001b[0m\u001b[1;33m,\u001b[0m\u001b[1;33m**\u001b[0m\u001b[0mkwargs\u001b[0m\u001b[1;33m)\u001b[0m\u001b[1;33m\u001b[0m\u001b[0m\n\u001b[0m\u001b[0;32m   2088\u001b[0m             \u001b[1;32mreturn\u001b[0m \u001b[0mresult\u001b[0m\u001b[1;33m\u001b[0m\u001b[0m\n\u001b[0;32m   2089\u001b[0m \u001b[1;33m\u001b[0m\u001b[0m\n",
        "\u001b[1;32mC:\\Anaconda\\lib\\site-packages\\IPython\\core\\magics\\execution.pyc\u001b[0m in \u001b[0;36mtime\u001b[1;34m(self, line, cell, local_ns)\u001b[0m\n",
        "\u001b[1;32mC:\\Anaconda\\lib\\site-packages\\IPython\\core\\magic.pyc\u001b[0m in \u001b[0;36m<lambda>\u001b[1;34m(f, *a, **k)\u001b[0m\n\u001b[0;32m    189\u001b[0m     \u001b[1;31m# but it's overkill for just that one bit of state.\u001b[0m\u001b[1;33m\u001b[0m\u001b[1;33m\u001b[0m\u001b[0m\n\u001b[0;32m    190\u001b[0m     \u001b[1;32mdef\u001b[0m \u001b[0mmagic_deco\u001b[0m\u001b[1;33m(\u001b[0m\u001b[0marg\u001b[0m\u001b[1;33m)\u001b[0m\u001b[1;33m:\u001b[0m\u001b[1;33m\u001b[0m\u001b[0m\n\u001b[1;32m--> 191\u001b[1;33m         \u001b[0mcall\u001b[0m \u001b[1;33m=\u001b[0m \u001b[1;32mlambda\u001b[0m \u001b[0mf\u001b[0m\u001b[1;33m,\u001b[0m \u001b[1;33m*\u001b[0m\u001b[0ma\u001b[0m\u001b[1;33m,\u001b[0m \u001b[1;33m**\u001b[0m\u001b[0mk\u001b[0m\u001b[1;33m:\u001b[0m \u001b[0mf\u001b[0m\u001b[1;33m(\u001b[0m\u001b[1;33m*\u001b[0m\u001b[0ma\u001b[0m\u001b[1;33m,\u001b[0m \u001b[1;33m**\u001b[0m\u001b[0mk\u001b[0m\u001b[1;33m)\u001b[0m\u001b[1;33m\u001b[0m\u001b[0m\n\u001b[0m\u001b[0;32m    192\u001b[0m \u001b[1;33m\u001b[0m\u001b[0m\n\u001b[0;32m    193\u001b[0m         \u001b[1;32mif\u001b[0m \u001b[0mcallable\u001b[0m\u001b[1;33m(\u001b[0m\u001b[0marg\u001b[0m\u001b[1;33m)\u001b[0m\u001b[1;33m:\u001b[0m\u001b[1;33m\u001b[0m\u001b[0m\n",
        "\u001b[1;32mC:\\Anaconda\\lib\\site-packages\\IPython\\core\\magics\\execution.pyc\u001b[0m in \u001b[0;36mtime\u001b[1;34m(self, line, cell, local_ns)\u001b[0m\n\u001b[0;32m   1042\u001b[0m         \u001b[1;32melse\u001b[0m\u001b[1;33m:\u001b[0m\u001b[1;33m\u001b[0m\u001b[0m\n\u001b[0;32m   1043\u001b[0m             \u001b[0mst\u001b[0m \u001b[1;33m=\u001b[0m \u001b[0mclock2\u001b[0m\u001b[1;33m(\u001b[0m\u001b[1;33m)\u001b[0m\u001b[1;33m\u001b[0m\u001b[0m\n\u001b[1;32m-> 1044\u001b[1;33m             \u001b[1;32mexec\u001b[0m \u001b[0mcode\u001b[0m \u001b[1;32min\u001b[0m \u001b[0mglob\u001b[0m\u001b[1;33m,\u001b[0m \u001b[0mlocal_ns\u001b[0m\u001b[1;33m\u001b[0m\u001b[0m\n\u001b[0m\u001b[0;32m   1045\u001b[0m             \u001b[0mend\u001b[0m \u001b[1;33m=\u001b[0m \u001b[0mclock2\u001b[0m\u001b[1;33m(\u001b[0m\u001b[1;33m)\u001b[0m\u001b[1;33m\u001b[0m\u001b[0m\n\u001b[0;32m   1046\u001b[0m             \u001b[0mout\u001b[0m \u001b[1;33m=\u001b[0m \u001b[0mNone\u001b[0m\u001b[1;33m\u001b[0m\u001b[0m\n",
        "\u001b[1;32m<timed exec>\u001b[0m in \u001b[0;36m<module>\u001b[1;34m()\u001b[0m\n",
        "\u001b[1;32mC:\\InCapture\\IDPResearch\\idpresearch\\rapturelib.pyd\u001b[0m in \u001b[0;36mrapturelib.Rapture.request_bloomberg_data (dist/pyx/rapturelib.c:5195)\u001b[1;34m()\u001b[0m\n",
        "\u001b[1;32mC:\\Anaconda\\lib\\ast.pyc\u001b[0m in \u001b[0;36mliteral_eval\u001b[1;34m(node_or_string)\u001b[0m\n\u001b[0;32m     78\u001b[0m                 \u001b[1;32mreturn\u001b[0m \u001b[0mleft\u001b[0m \u001b[1;33m-\u001b[0m \u001b[0mright\u001b[0m\u001b[1;33m\u001b[0m\u001b[0m\n\u001b[0;32m     79\u001b[0m         \u001b[1;32mraise\u001b[0m \u001b[0mValueError\u001b[0m\u001b[1;33m(\u001b[0m\u001b[1;34m'malformed string'\u001b[0m\u001b[1;33m)\u001b[0m\u001b[1;33m\u001b[0m\u001b[0m\n\u001b[1;32m---> 80\u001b[1;33m     \u001b[1;32mreturn\u001b[0m \u001b[0m_convert\u001b[0m\u001b[1;33m(\u001b[0m\u001b[0mnode_or_string\u001b[0m\u001b[1;33m)\u001b[0m\u001b[1;33m\u001b[0m\u001b[0m\n\u001b[0m\u001b[0;32m     81\u001b[0m \u001b[1;33m\u001b[0m\u001b[0m\n\u001b[0;32m     82\u001b[0m \u001b[1;33m\u001b[0m\u001b[0m\n",
        "\u001b[1;32mC:\\Anaconda\\lib\\ast.pyc\u001b[0m in \u001b[0;36m_convert\u001b[1;34m(node)\u001b[0m\n\u001b[0;32m     77\u001b[0m             \u001b[1;32melse\u001b[0m\u001b[1;33m:\u001b[0m\u001b[1;33m\u001b[0m\u001b[0m\n\u001b[0;32m     78\u001b[0m                 \u001b[1;32mreturn\u001b[0m \u001b[0mleft\u001b[0m \u001b[1;33m-\u001b[0m \u001b[0mright\u001b[0m\u001b[1;33m\u001b[0m\u001b[0m\n\u001b[1;32m---> 79\u001b[1;33m         \u001b[1;32mraise\u001b[0m \u001b[0mValueError\u001b[0m\u001b[1;33m(\u001b[0m\u001b[1;34m'malformed string'\u001b[0m\u001b[1;33m)\u001b[0m\u001b[1;33m\u001b[0m\u001b[0m\n\u001b[0m\u001b[0;32m     80\u001b[0m     \u001b[1;32mreturn\u001b[0m \u001b[0m_convert\u001b[0m\u001b[1;33m(\u001b[0m\u001b[0mnode_or_string\u001b[0m\u001b[1;33m)\u001b[0m\u001b[1;33m\u001b[0m\u001b[0m\n\u001b[0;32m     81\u001b[0m \u001b[1;33m\u001b[0m\u001b[0m\n",
        "\u001b[1;31mValueError\u001b[0m: malformed string"
       ]
      }
     ],
     "prompt_number": 137
    },
    {
     "cell_type": "code",
     "collapsed": false,
     "input": [
      "fields = ['PX_LAST'] \n",
      "program_name = 'gethistory'\n",
      "sd = start_date #after first run change the hard coded start date to variable start_date\n",
      "ed = today\n",
      "%time blackVol = rap.request_bloomberg_data(blackVol_ticker, fields, program_name, start=sd, end=ed)\n",
      "\n"
     ],
     "language": "python",
     "metadata": {},
     "outputs": []
    },
    {
     "cell_type": "code",
     "collapsed": false,
     "input": [
      "program_name = 'gethistory'\n",
      "sd = start_date #after first run change the hard coded start date to variable start_date\n",
      "ed = today\n",
      "%time strPremium= rap.request_bloomberg_data(strPremium_ticker, fields, program_name, start=sd, end=ed)\n",
      "                                   "
     ],
     "language": "python",
     "metadata": {},
     "outputs": []
    },
    {
     "cell_type": "code",
     "collapsed": false,
     "input": [
      "fields = ['PX_LAST'] \n",
      "program_name = 'gethistory'\n",
      "sd = start_date #after first run change the hard coded start date to variable start_date\n",
      "ed = today\n",
      "%time blackVol1M = rap.request_bloomberg_data(blackVol1M_ticker, fields, program_name, start=sd, end=ed)\n",
      "                                    "
     ],
     "language": "python",
     "metadata": {},
     "outputs": []
    },
    {
     "cell_type": "code",
     "collapsed": false,
     "input": [
      "fields = ['PX_LAST'] \n",
      "program_name = 'gethistory'\n",
      "sd = start_date #after first run change the hard coded start date to variable start_date\n",
      "ed = today\n",
      "%time blackVol1Y = rap.request_bloomberg_data(blackVol1Y_ticker, fields, program_name, start=sd, end=ed)\n",
      "                                    "
     ],
     "language": "python",
     "metadata": {},
     "outputs": []
    },
    {
     "cell_type": "code",
     "collapsed": false,
     "input": [
      "blackVol1Y.tail()"
     ],
     "language": "python",
     "metadata": {},
     "outputs": []
    },
    {
     "cell_type": "code",
     "collapsed": false,
     "input": [
      "fwdRate.tail()"
     ],
     "language": "python",
     "metadata": {},
     "outputs": []
    },
    {
     "cell_type": "code",
     "collapsed": false,
     "input": [
      "DV01=strPremium.copy()\n",
      "DV01.columns=['DV01_USD/PX_LAST','DV01_EUR/PX_LAST','DV01_GBP/PX_LAST']\n"
     ],
     "language": "python",
     "metadata": {},
     "outputs": []
    },
    {
     "cell_type": "code",
     "collapsed": false,
     "input": [
      "temp1=strPremium.applymap(float).copy()\n",
      "temp2=blackVol.applymap(float).copy()\n",
      "temp3=fwdRate.applymap(float).copy()\n",
      "temp1.columns=DV01.columns\n",
      "temp2.columns=DV01.columns\n",
      "temp3.columns=DV01.columns\n"
     ],
     "language": "python",
     "metadata": {},
     "outputs": []
    },
    {
     "cell_type": "code",
     "collapsed": false,
     "input": [
      "DV01=temp1/temp2/temp3*sqrt(2*pi)/(sqrt(0.25)*2)\n",
      "DV01.tail()"
     ],
     "language": "python",
     "metadata": {},
     "outputs": []
    },
    {
     "cell_type": "code",
     "collapsed": false,
     "input": [
      "for idx,column in enumerate(DV01):\n",
      "    newCol = (DV01.iloc[:,idx]).dropna()\n",
      "    resp = rap.put_series_data('systematicVol', newCol, prefix='swaption/vol')\n"
     ],
     "language": "python",
     "metadata": {},
     "outputs": []
    },
    {
     "cell_type": "code",
     "collapsed": false,
     "input": [
      "for idx,column in enumerate(blackVol):\n",
      "    newCol = (blackVol.iloc[:,idx]).dropna()\n",
      "    resp = rap.put_series_data('systematicVol', newCol, prefix='swaption/vol')"
     ],
     "language": "python",
     "metadata": {},
     "outputs": []
    },
    {
     "cell_type": "code",
     "collapsed": false,
     "input": [
      "\n",
      "for idx,column in enumerate(blackVol1M):\n",
      "    newCol = (blackVol1M.iloc[:,idx]).dropna()\n",
      "    resp = rap.put_series_data('systematicVol', newCol, prefix='swaption/vol')"
     ],
     "language": "python",
     "metadata": {},
     "outputs": []
    },
    {
     "cell_type": "code",
     "collapsed": false,
     "input": [
      "for idx,column in enumerate(blackVol1Y):\n",
      "    newCol = (blackVol1Y.iloc[:,idx]).dropna()\n",
      "    resp = rap.put_series_data('systematicVol', newCol, prefix='swaption/vol')\n",
      "    \n",
      "for idx,column in enumerate(fwdRate):\n",
      "    newCol = (fwdRate.iloc[:,idx]).dropna()\n",
      "    resp = rap.put_series_data('systematicVol', newCol, prefix='swaption/vol')"
     ],
     "language": "python",
     "metadata": {},
     "outputs": []
    },
    {
     "cell_type": "code",
     "collapsed": false,
     "input": [
      "rap.api.doSeries_DropSeriesRepository('//systematicVol')"
     ],
     "language": "python",
     "metadata": {},
     "outputs": []
    },
    {
     "cell_type": "code",
     "collapsed": false,
     "input": [
      "rap.api.doSeries_DoesSeriesRepositoryExist('//systematicVol')"
     ],
     "language": "python",
     "metadata": {},
     "outputs": []
    },
    {
     "cell_type": "code",
     "collapsed": false,
     "input": [
      "#rap.delete_authority('sytematicVol','Series')"
     ],
     "language": "python",
     "metadata": {},
     "outputs": []
    },
    {
     "cell_type": "code",
     "collapsed": false,
     "input": [
      "\n",
      "fwdRate_ticker=[('swaption/vol/'+ x + '/PX_LAST').replace(' ','_')  for x in fwdRate_ticker]\n",
      "blackVol_ticker=[('swaption/vol/'+ x + '/PX_LAST').replace(' ','_')  for x in blackVol_ticker]\n",
      "blackVol1M_ticker=[('swaption/vol/'+ x + '/PX_LAST').replace(' ','_')  for x in blackVol1M_ticker]\n",
      "blackVol1Y_ticker=[('swaption/vol/'+ x + '/PX_LAST').replace(' ','_')  for x in blackVol1Y_ticker]\n",
      "DV01_ticker=[('swaption/vol/'+ x ).replace(' ','_')  for x in DV01.columns]\n"
     ],
     "language": "python",
     "metadata": {},
     "outputs": []
    },
    {
     "cell_type": "code",
     "collapsed": false,
     "input": [
      "uris = fwdRate_ticker+blackVol_ticker+blackVol1M_ticker+blackVol1Y_ticker+DV01_ticker\n",
      "uris"
     ],
     "language": "python",
     "metadata": {},
     "outputs": []
    },
    {
     "cell_type": "code",
     "collapsed": false,
     "input": [
      "uris = fwdRate_ticker+blackVol_ticker+blackVol1M_ticker+blackVol1Y_ticker+DV01_ticker\n",
      "\n",
      "\n",
      "resp = rap.get_series_data('systematicVol',  uris,start='19950101',end=today)\n",
      "resp = resp.ffill() #forward fill the gaps in data\n"
     ],
     "language": "python",
     "metadata": {},
     "outputs": []
    },
    {
     "cell_type": "code",
     "collapsed": false,
     "input": [
      "resp.columns=[x.split('/')[2].replace('_',' ') for x in resp.columns]"
     ],
     "language": "python",
     "metadata": {},
     "outputs": []
    },
    {
     "cell_type": "code",
     "collapsed": false,
     "input": [
      "resp.to_csv(params.inputcsvdir+'\\SwaptionVolData.csv',mode='w', header=True)"
     ],
     "language": "python",
     "metadata": {},
     "outputs": []
    },
    {
     "cell_type": "code",
     "collapsed": false,
     "input": [],
     "language": "python",
     "metadata": {},
     "outputs": []
    }
   ],
   "metadata": {}
  }
 ]
}