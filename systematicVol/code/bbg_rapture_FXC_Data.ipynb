{
 "metadata": {
  "name": ""
 },
 "nbformat": 3,
 "nbformat_minor": 0,
 "worksheets": [
  {
   "cells": [
    {
     "cell_type": "code",
     "collapsed": false,
     "input": [
      "import sys\n",
      "import os\n",
      "import pandas as pd\n",
      "import datetime\n",
      "import ConfigParser\n",
      "import json\n",
      "import numpy as np"
     ],
     "language": "python",
     "metadata": {},
     "outputs": [],
     "prompt_number": 1
    },
    {
     "cell_type": "code",
     "collapsed": false,
     "input": [
      "# read the configuration file and set the path to IDPResearch directory\n",
      "config = ConfigParser.RawConfigParser()\n",
      "config.read(os.path.abspath('../../idpresearch.cfg'))\n",
      "sys.path.append(os.path.abspath(config.get('IDPResearch','path')))"
     ],
     "language": "python",
     "metadata": {},
     "outputs": [],
     "prompt_number": 2
    },
    {
     "cell_type": "code",
     "collapsed": false,
     "input": [
      "# load modules of idpresearch\n",
      "from idpresearch import rapturelib\n",
      "from idpresearch import utillib\n",
      "from idpresearch import risklib\n",
      "from idpresearch import siglib\n",
      "from idpresearch import plotlib\n",
      "from idpresearch import iolib"
     ],
     "language": "python",
     "metadata": {},
     "outputs": [],
     "prompt_number": 3
    },
    {
     "cell_type": "code",
     "collapsed": false,
     "input": [
      "params = utillib.PathUtil(projectname = 'systematicFX', \n",
      "                          inputcsvdir = os.path.abspath('../data'), \n",
      "                          outputdir = os.path.abspath('../output'),\n",
      "                          resourcedir = os.path.abspath(config.get('IDPResearch','path') + '/resources'))   "
     ],
     "language": "python",
     "metadata": {},
     "outputs": [],
     "prompt_number": 4
    },
    {
     "cell_type": "code",
     "collapsed": false,
     "input": [
      "risk = risklib.Risk()\n",
      "sig = siglib.Sig()\n",
      "plt = plotlib.Plot(params)\n",
      "io = iolib.IO(params)"
     ],
     "language": "python",
     "metadata": {},
     "outputs": [],
     "prompt_number": 5
    },
    {
     "cell_type": "code",
     "collapsed": false,
     "input": [
      "r_url = '54.208.88.106:8665/rapture'\n",
      "r_user = 'rapture'\n",
      "r_password = 'rapture'"
     ],
     "language": "python",
     "metadata": {},
     "outputs": [],
     "prompt_number": 6
    },
    {
     "cell_type": "code",
     "collapsed": false,
     "input": [
      "rap = rapturelib.Rapture(r_url, r_user, r_password)"
     ],
     "language": "python",
     "metadata": {},
     "outputs": [],
     "prompt_number": 7
    },
    {
     "cell_type": "code",
     "collapsed": false,
     "input": [
      "myFile=params.inputcsvdir+'\\FXCData.csv'\n",
      "\n",
      "if os.path.isfile(myFile):\n",
      "    df = pd.read_csv(params.inputcsvdir+'\\FXCData.csv', index_col=0, parse_dates=True)\n",
      "    start_date=df.index[-1] + datetime.timedelta(-1)\n",
      "    start_date = start_date.strftime('%Y%m%d')\n",
      "    print start_date\n",
      "    \n",
      "else:\n",
      "    start_date='20000101'\n",
      "    \n",
      "print start_date        "
     ],
     "language": "python",
     "metadata": {},
     "outputs": [
      {
       "output_type": "stream",
       "stream": "stdout",
       "text": [
        "20000101\n"
       ]
      }
     ],
     "prompt_number": 8
    },
    {
     "cell_type": "code",
     "collapsed": false,
     "input": [
      "yesterday = datetime.date.today() - datetime.timedelta(1)\n",
      "yesterday = yesterday.strftime('%Y%m%d')\n",
      "today=datetime.date.today()\n",
      "today=today.strftime('%Y%m%d')\n",
      "print yesterday"
     ],
     "language": "python",
     "metadata": {},
     "outputs": [
      {
       "output_type": "stream",
       "stream": "stdout",
       "text": [
        "20131204\n"
       ]
      }
     ],
     "prompt_number": 9
    },
    {
     "cell_type": "code",
     "collapsed": false,
     "input": [
      "spot_ticker = ['EURUSD', 'USDJPY', 'EURJPY', 'GBPUSD', 'EURGBP', 'USDCHF', 'USDCAD', 'AUDUSD', 'EURNOK', 'EURSEK','NZDUSD','USDSGD'] \n",
      "                          \n",
      "vol_ticker = ['EURUSDV3M', 'USDJPYV3M', 'EURJPYV3M', 'GBPUSDV3M', 'EURGBPV3M', 'USDCHFV3M', 'USDCADV3M', 'AUDUSDV3M', 'EURNOKV3M', 'EURSEKV3M','NZDUSDV3M','USDSGDV3M'] \n",
      "\n",
      "domestic_rate_ticker = ['EUR003M', 'USSW2','EUSA2','BP0003M','EUR003M','US0003M','USSW2','ADSW2','EUR003M','EUR003M','NDSW2','USSW2']\n",
      "\n",
      "foreign_rate_ticker = ['US0003M','JYSW2','JYSW2', 'US0003M','BP0003M', 'SF0003M', 'CDSW2','USSW2','NIBOR3M','STIB3M','USSW2','SDSW2' ] \n",
      "\n",
      "vol1M_ticker = ['EURUSDV1M', 'USDJPYV1M', 'EURJPYV1M', 'GBPUSDV1M', 'EURGBPV1M', 'USDCHFV1M', 'USDCADV1M', 'AUDUSDV1M', 'EURNOKV1M', 'EURSEKV1M','NZDUSDV1M','USDSGDV1M']\n",
      "\n",
      "vol1Y_ticker = ['EURUSDV1Y', 'USDJPYV1Y', 'EURJPYV1Y', 'GBPUSDV1Y', 'EURGBPV1Y', 'USDCHFV1Y', 'USDCADV1Y', 'AUDUSDV1Y', 'EURNOKV1Y', 'EURSEKV1Y','NZDUSDV1Y','USDSGDV1Y']\n"
     ],
     "language": "python",
     "metadata": {},
     "outputs": [],
     "prompt_number": 10
    },
    {
     "cell_type": "code",
     "collapsed": false,
     "input": [
      "rate_ticker=domestic_rate_ticker + foreign_rate_ticker\n",
      "rate_ticker=set(rate_ticker)\n",
      "\n",
      "rate_ticker"
     ],
     "language": "python",
     "metadata": {},
     "outputs": [
      {
       "metadata": {},
       "output_type": "pyout",
       "prompt_number": 11,
       "text": [
        "{'ADSW2',\n",
        " 'BP0003M',\n",
        " 'CDSW2',\n",
        " 'EUR003M',\n",
        " 'EUSA2',\n",
        " 'JYSW2',\n",
        " 'NDSW2',\n",
        " 'NIBOR3M',\n",
        " 'SDSW2',\n",
        " 'SF0003M',\n",
        " 'STIB3M',\n",
        " 'US0003M',\n",
        " 'USSW2'}"
       ]
      }
     ],
     "prompt_number": 11
    },
    {
     "cell_type": "code",
     "collapsed": false,
     "input": [
      "spot_ticker=[x + ' Curncy' for x in spot_ticker]\n",
      "vol_ticker=[x + ' Index' for x in vol_ticker]\n",
      "domestic_rate_ticker=[x + ' Curncy' for x in domestic_rate_ticker]\n",
      "foreign_rate_ticker=[x + ' Curncy' for x in foreign_rate_ticker]\n",
      "rate_ticker=[x + ' Curncy' for x in rate_ticker]\n",
      "vol1M_ticker=[x + ' Index' for x in vol1M_ticker]\n",
      "vol1Y_ticker=[x + ' Index' for x in vol1Y_ticker]"
     ],
     "language": "python",
     "metadata": {},
     "outputs": [],
     "prompt_number": 12
    },
    {
     "cell_type": "code",
     "collapsed": false,
     "input": [
      "spot_ticker"
     ],
     "language": "python",
     "metadata": {},
     "outputs": [
      {
       "metadata": {},
       "output_type": "pyout",
       "prompt_number": 13,
       "text": [
        "['EURUSD Curncy',\n",
        " 'USDJPY Curncy',\n",
        " 'EURJPY Curncy',\n",
        " 'GBPUSD Curncy',\n",
        " 'EURGBP Curncy',\n",
        " 'USDCHF Curncy',\n",
        " 'USDCAD Curncy',\n",
        " 'AUDUSD Curncy',\n",
        " 'EURNOK Curncy',\n",
        " 'EURSEK Curncy',\n",
        " 'NZDUSD Curncy',\n",
        " 'USDSGD Curncy']"
       ]
      }
     ],
     "prompt_number": 13
    },
    {
     "cell_type": "code",
     "collapsed": false,
     "input": [
      "fields = ['PX_LAST'] \n",
      "program_name = 'gethistory'\n",
      "sd = start_date #after first run change the hard coded start date to variable start_date\n",
      "ed = today\n",
      "%time fxSpot = rap.request_bloomberg_data(spot_ticker,  fields, program_name, start=sd, end=ed)\n",
      "                                      "
     ],
     "language": "python",
     "metadata": {},
     "outputs": [
      {
       "output_type": "stream",
       "stream": "stdout",
       "text": [
        "Wall time: 1min 26s\n"
       ]
      }
     ],
     "prompt_number": 14
    },
    {
     "cell_type": "code",
     "collapsed": false,
     "input": [
      "fields = ['PX_LAST'] \n",
      "program_name = 'gethistory'\n",
      "sd = start_date #after first run change the hard coded start date to variable start_date\n",
      "ed = today\n",
      "%time fxVol = rap.request_bloomberg_data(vol_ticker, fields, program_name, start=sd, end=ed)\n",
      "\n"
     ],
     "language": "python",
     "metadata": {},
     "outputs": [
      {
       "output_type": "stream",
       "stream": "stdout",
       "text": [
        "Wall time: 1min 30s\n"
       ]
      }
     ],
     "prompt_number": 15
    },
    {
     "cell_type": "code",
     "collapsed": false,
     "input": [
      "program_name = 'gethistory'\n",
      "sd = start_date #after first run change the hard coded start date to variable start_date\n",
      "ed = today\n",
      "%time fxRate = rap.request_bloomberg_data(rate_ticker, fields, program_name, start=sd, end=ed)\n",
      "                                   "
     ],
     "language": "python",
     "metadata": {},
     "outputs": [
      {
       "output_type": "stream",
       "stream": "stdout",
       "text": [
        "Wall time: 1min 18s\n"
       ]
      }
     ],
     "prompt_number": 16
    },
    {
     "cell_type": "code",
     "collapsed": false,
     "input": [
      "fields = ['PX_LAST'] \n",
      "program_name = 'gethistory'\n",
      "sd = start_date #after first run change the hard coded start date to variable start_date\n",
      "ed = today\n",
      "%time fxVol1M = rap.request_bloomberg_data(vol1M_ticker, fields, program_name, start=sd, end=ed)\n",
      "                                    "
     ],
     "language": "python",
     "metadata": {},
     "outputs": [
      {
       "output_type": "stream",
       "stream": "stdout",
       "text": [
        "Wall time: 1min 25s\n"
       ]
      }
     ],
     "prompt_number": 17
    },
    {
     "cell_type": "code",
     "collapsed": false,
     "input": [
      "fields = ['PX_LAST'] \n",
      "program_name = 'gethistory'\n",
      "sd = start_date #after first run change the hard coded start date to variable start_date\n",
      "ed = today\n",
      "%time fxVol1Y = rap.request_bloomberg_data(vol1Y_ticker, fields, program_name, start=sd, end=ed)\n",
      "                                    "
     ],
     "language": "python",
     "metadata": {},
     "outputs": [
      {
       "output_type": "stream",
       "stream": "stdout",
       "text": [
        "Wall time: 1min 8s\n"
       ]
      }
     ],
     "prompt_number": 18
    },
    {
     "cell_type": "code",
     "collapsed": false,
     "input": [
      "fxRate.tail()"
     ],
     "language": "python",
     "metadata": {},
     "outputs": [
      {
       "html": [
        "<div style=\"max-height:1000px;max-width:1500px;overflow:auto;\">\n",
        "<table border=\"1\" class=\"dataframe\">\n",
        "  <thead>\n",
        "    <tr style=\"text-align: right;\">\n",
        "      <th></th>\n",
        "      <th>ADSW2_Curncy/PX_LAST</th>\n",
        "      <th>BP0003M_Curncy/PX_LAST</th>\n",
        "      <th>CDSW2_Curncy/PX_LAST</th>\n",
        "      <th>EUR003M_Curncy/PX_LAST</th>\n",
        "      <th>EUSA2_Curncy/PX_LAST</th>\n",
        "      <th>JYSW2_Curncy/PX_LAST</th>\n",
        "      <th>NDSW2_Curncy/PX_LAST</th>\n",
        "      <th>NIBOR3M_Curncy/PX_LAST</th>\n",
        "      <th>SDSW2_Curncy/PX_LAST</th>\n",
        "      <th>SF0003M_Curncy/PX_LAST</th>\n",
        "      <th>STIB3M_Curncy/PX_LAST</th>\n",
        "      <th>US0003M_Curncy/PX_LAST</th>\n",
        "      <th>USSW2_Curncy/PX_LAST</th>\n",
        "    </tr>\n",
        "  </thead>\n",
        "  <tbody>\n",
        "    <tr>\n",
        "      <th>2013-11-29</th>\n",
        "      <td>   2.93</td>\n",
        "      <td> 0.52219</td>\n",
        "      <td> 1.3613</td>\n",
        "      <td> 0.234</td>\n",
        "      <td> 0.431</td>\n",
        "      <td> 0.1969</td>\n",
        "      <td>  3.69</td>\n",
        "      <td> 1.68</td>\n",
        "      <td> 0.4655</td>\n",
        "      <td> 0.015</td>\n",
        "      <td> 1.078</td>\n",
        "      <td>  0.2391</td>\n",
        "      <td>  0.378</td>\n",
        "    </tr>\n",
        "    <tr>\n",
        "      <th>2013-12-02</th>\n",
        "      <td>  2.991</td>\n",
        "      <td> 0.52281</td>\n",
        "      <td>  1.378</td>\n",
        "      <td> 0.236</td>\n",
        "      <td> 0.438</td>\n",
        "      <td>  0.197</td>\n",
        "      <td> 3.705</td>\n",
        "      <td> 1.66</td>\n",
        "      <td>   0.47</td>\n",
        "      <td> 0.017</td>\n",
        "      <td> 1.078</td>\n",
        "      <td> 0.23885</td>\n",
        "      <td>  0.384</td>\n",
        "    </tr>\n",
        "    <tr>\n",
        "      <th>2013-12-03</th>\n",
        "      <td>   2.98</td>\n",
        "      <td> 0.51981</td>\n",
        "      <td> 1.3475</td>\n",
        "      <td> 0.239</td>\n",
        "      <td> 0.435</td>\n",
        "      <td>    0.2</td>\n",
        "      <td>  3.72</td>\n",
        "      <td> 1.68</td>\n",
        "      <td>   0.47</td>\n",
        "      <td> 0.017</td>\n",
        "      <td> 1.076</td>\n",
        "      <td>  0.2413</td>\n",
        "      <td>   0.38</td>\n",
        "    </tr>\n",
        "    <tr>\n",
        "      <th>2013-12-04</th>\n",
        "      <td> 2.9365</td>\n",
        "      <td> 0.51981</td>\n",
        "      <td> 1.3375</td>\n",
        "      <td> 0.239</td>\n",
        "      <td> 0.458</td>\n",
        "      <td>    0.2</td>\n",
        "      <td> 3.755</td>\n",
        "      <td> 1.67</td>\n",
        "      <td>  0.483</td>\n",
        "      <td> 0.019</td>\n",
        "      <td> 1.083</td>\n",
        "      <td> 0.24185</td>\n",
        "      <td>  0.386</td>\n",
        "    </tr>\n",
        "    <tr>\n",
        "      <th>2013-12-05</th>\n",
        "      <td>  2.963</td>\n",
        "      <td> 0.52194</td>\n",
        "      <td>  1.348</td>\n",
        "      <td>  0.24</td>\n",
        "      <td> 0.483</td>\n",
        "      <td>    0.2</td>\n",
        "      <td>  3.78</td>\n",
        "      <td> 1.65</td>\n",
        "      <td>   0.48</td>\n",
        "      <td> 0.019</td>\n",
        "      <td> 1.082</td>\n",
        "      <td>  0.2416</td>\n",
        "      <td> 0.3905</td>\n",
        "    </tr>\n",
        "  </tbody>\n",
        "</table>\n",
        "</div>"
       ],
       "metadata": {},
       "output_type": "pyout",
       "prompt_number": 19,
       "text": [
        "           ADSW2_Curncy/PX_LAST BP0003M_Curncy/PX_LAST CDSW2_Curncy/PX_LAST  \\\n",
        "2013-11-29                 2.93                0.52219               1.3613   \n",
        "2013-12-02                2.991                0.52281                1.378   \n",
        "2013-12-03                 2.98                0.51981               1.3475   \n",
        "2013-12-04               2.9365                0.51981               1.3375   \n",
        "2013-12-05                2.963                0.52194                1.348   \n",
        "\n",
        "           EUR003M_Curncy/PX_LAST EUSA2_Curncy/PX_LAST JYSW2_Curncy/PX_LAST  \\\n",
        "2013-11-29                  0.234                0.431               0.1969   \n",
        "2013-12-02                  0.236                0.438                0.197   \n",
        "2013-12-03                  0.239                0.435                  0.2   \n",
        "2013-12-04                  0.239                0.458                  0.2   \n",
        "2013-12-05                   0.24                0.483                  0.2   \n",
        "\n",
        "           NDSW2_Curncy/PX_LAST NIBOR3M_Curncy/PX_LAST SDSW2_Curncy/PX_LAST  \\\n",
        "2013-11-29                 3.69                   1.68               0.4655   \n",
        "2013-12-02                3.705                   1.66                 0.47   \n",
        "2013-12-03                 3.72                   1.68                 0.47   \n",
        "2013-12-04                3.755                   1.67                0.483   \n",
        "2013-12-05                 3.78                   1.65                 0.48   \n",
        "\n",
        "           SF0003M_Curncy/PX_LAST STIB3M_Curncy/PX_LAST  \\\n",
        "2013-11-29                  0.015                 1.078   \n",
        "2013-12-02                  0.017                 1.078   \n",
        "2013-12-03                  0.017                 1.076   \n",
        "2013-12-04                  0.019                 1.083   \n",
        "2013-12-05                  0.019                 1.082   \n",
        "\n",
        "           US0003M_Curncy/PX_LAST USSW2_Curncy/PX_LAST  \n",
        "2013-11-29                 0.2391                0.378  \n",
        "2013-12-02                0.23885                0.384  \n",
        "2013-12-03                 0.2413                 0.38  \n",
        "2013-12-04                0.24185                0.386  \n",
        "2013-12-05                 0.2416               0.3905  "
       ]
      }
     ],
     "prompt_number": 19
    },
    {
     "cell_type": "code",
     "collapsed": false,
     "input": [
      "resp = rap.create_authority('DeltaOne', 'Series')"
     ],
     "language": "python",
     "metadata": {},
     "outputs": [],
     "prompt_number": 20
    },
    {
     "cell_type": "code",
     "collapsed": false,
     "input": [
      "for idx,column in enumerate(fxSpot):\n",
      "    newCol = (fxSpot.iloc[:,idx]).dropna()\n",
      "    resp = rap.put_series_data('DeltaOne', newCol, prefix='fx/spot')\n"
     ],
     "language": "python",
     "metadata": {},
     "outputs": [],
     "prompt_number": 21
    },
    {
     "cell_type": "code",
     "collapsed": false,
     "input": [
      "for idx,column in enumerate(fxVol):\n",
      "    newCol = (fxVol.iloc[:,idx]).dropna()\n",
      "    resp = rap.put_series_data('DeltaOne', newCol, prefix='fx/vol')"
     ],
     "language": "python",
     "metadata": {},
     "outputs": [],
     "prompt_number": 22
    },
    {
     "cell_type": "code",
     "collapsed": false,
     "input": [
      "\n",
      "for idx,column in enumerate(fxRate):\n",
      "    newCol = (fxRate.iloc[:,idx]).dropna()\n",
      "    resp = rap.put_series_data('DeltaOne', newCol, prefix='fx/rate')"
     ],
     "language": "python",
     "metadata": {},
     "outputs": [],
     "prompt_number": 23
    },
    {
     "cell_type": "code",
     "collapsed": false,
     "input": [
      "for idx,column in enumerate(fxVol1M):\n",
      "    newCol = (fxVol1M.iloc[:,idx]).dropna()\n",
      "    resp = rap.put_series_data('DeltaOne', newCol, prefix='fx/vol')\n",
      "    \n",
      "for idx,column in enumerate(fxVol1Y):\n",
      "    newCol = (fxVol1Y.iloc[:,idx]).dropna()\n",
      "    resp = rap.put_series_data('DeltaOne', newCol, prefix='fx/vol')"
     ],
     "language": "python",
     "metadata": {},
     "outputs": [],
     "prompt_number": 24
    },
    {
     "cell_type": "code",
     "collapsed": false,
     "input": [
      "#rap.delete_authority('DeltaOne','Series')"
     ],
     "language": "python",
     "metadata": {},
     "outputs": [],
     "prompt_number": 25
    },
    {
     "cell_type": "code",
     "collapsed": false,
     "input": [
      "spot_ticker=[('fx/spot/'+ x + '/PX_LAST').replace(' ','_')  for x in spot_ticker]\n",
      "rate_ticker=[('fx/rate/'+ x + '/PX_LAST').replace(' ','_')  for x in rate_ticker]\n",
      "vol_ticker=[('fx/vol/'+ x + '/PX_LAST').replace(' ','_')  for x in vol_ticker]\n",
      "vol1M_ticker=[('fx/vol/'+ x + '/PX_LAST').replace(' ','_')  for x in vol1M_ticker]\n",
      "vol1Y_ticker=[('fx/vol/'+ x + '/PX_LAST').replace(' ','_')  for x in vol1Y_ticker]\n"
     ],
     "language": "python",
     "metadata": {},
     "outputs": [],
     "prompt_number": 26
    },
    {
     "cell_type": "code",
     "collapsed": false,
     "input": [
      "uris = spot_ticker+rate_ticker+vol_ticker+vol1M_ticker+vol1Y_ticker\n",
      "\n",
      "\n",
      "resp = rap.get_series_data('DeltaOne',  uris,start='19950101',end=today)\n",
      "resp = resp.ffill() #forward fill the gaps in data\n"
     ],
     "language": "python",
     "metadata": {},
     "outputs": [],
     "prompt_number": 27
    },
    {
     "cell_type": "code",
     "collapsed": false,
     "input": [
      "resp.columns=[x.split('/')[2].replace('_',' ') for x in resp.columns]"
     ],
     "language": "python",
     "metadata": {},
     "outputs": [],
     "prompt_number": 28
    },
    {
     "cell_type": "code",
     "collapsed": false,
     "input": [
      "resp.to_csv(params.inputcsvdir+'\\FXCData.csv',mode='w', header=True)"
     ],
     "language": "python",
     "metadata": {},
     "outputs": [],
     "prompt_number": 29
    },
    {
     "cell_type": "code",
     "collapsed": false,
     "input": [
      "fxRate.tail()\n"
     ],
     "language": "python",
     "metadata": {},
     "outputs": [
      {
       "html": [
        "<div style=\"max-height:1000px;max-width:1500px;overflow:auto;\">\n",
        "<table border=\"1\" class=\"dataframe\">\n",
        "  <thead>\n",
        "    <tr style=\"text-align: right;\">\n",
        "      <th></th>\n",
        "      <th>ADSW2_Curncy/PX_LAST</th>\n",
        "      <th>BP0003M_Curncy/PX_LAST</th>\n",
        "      <th>CDSW2_Curncy/PX_LAST</th>\n",
        "      <th>EUR003M_Curncy/PX_LAST</th>\n",
        "      <th>EUSA2_Curncy/PX_LAST</th>\n",
        "      <th>JYSW2_Curncy/PX_LAST</th>\n",
        "      <th>NDSW2_Curncy/PX_LAST</th>\n",
        "      <th>NIBOR3M_Curncy/PX_LAST</th>\n",
        "      <th>SDSW2_Curncy/PX_LAST</th>\n",
        "      <th>SF0003M_Curncy/PX_LAST</th>\n",
        "      <th>STIB3M_Curncy/PX_LAST</th>\n",
        "      <th>US0003M_Curncy/PX_LAST</th>\n",
        "      <th>USSW2_Curncy/PX_LAST</th>\n",
        "    </tr>\n",
        "  </thead>\n",
        "  <tbody>\n",
        "    <tr>\n",
        "      <th>2013-11-29</th>\n",
        "      <td>   2.93</td>\n",
        "      <td> 0.52219</td>\n",
        "      <td> 1.3613</td>\n",
        "      <td> 0.234</td>\n",
        "      <td> 0.431</td>\n",
        "      <td> 0.1969</td>\n",
        "      <td>  3.69</td>\n",
        "      <td> 1.68</td>\n",
        "      <td> 0.4655</td>\n",
        "      <td> 0.015</td>\n",
        "      <td> 1.078</td>\n",
        "      <td>  0.2391</td>\n",
        "      <td>  0.378</td>\n",
        "    </tr>\n",
        "    <tr>\n",
        "      <th>2013-12-02</th>\n",
        "      <td>  2.991</td>\n",
        "      <td> 0.52281</td>\n",
        "      <td>  1.378</td>\n",
        "      <td> 0.236</td>\n",
        "      <td> 0.438</td>\n",
        "      <td>  0.197</td>\n",
        "      <td> 3.705</td>\n",
        "      <td> 1.66</td>\n",
        "      <td>   0.47</td>\n",
        "      <td> 0.017</td>\n",
        "      <td> 1.078</td>\n",
        "      <td> 0.23885</td>\n",
        "      <td>  0.384</td>\n",
        "    </tr>\n",
        "    <tr>\n",
        "      <th>2013-12-03</th>\n",
        "      <td>   2.98</td>\n",
        "      <td> 0.51981</td>\n",
        "      <td> 1.3475</td>\n",
        "      <td> 0.239</td>\n",
        "      <td> 0.435</td>\n",
        "      <td>    0.2</td>\n",
        "      <td>  3.72</td>\n",
        "      <td> 1.68</td>\n",
        "      <td>   0.47</td>\n",
        "      <td> 0.017</td>\n",
        "      <td> 1.076</td>\n",
        "      <td>  0.2413</td>\n",
        "      <td>   0.38</td>\n",
        "    </tr>\n",
        "    <tr>\n",
        "      <th>2013-12-04</th>\n",
        "      <td> 2.9365</td>\n",
        "      <td> 0.51981</td>\n",
        "      <td> 1.3375</td>\n",
        "      <td> 0.239</td>\n",
        "      <td> 0.458</td>\n",
        "      <td>    0.2</td>\n",
        "      <td> 3.755</td>\n",
        "      <td> 1.67</td>\n",
        "      <td>  0.483</td>\n",
        "      <td> 0.019</td>\n",
        "      <td> 1.083</td>\n",
        "      <td> 0.24185</td>\n",
        "      <td>  0.386</td>\n",
        "    </tr>\n",
        "    <tr>\n",
        "      <th>2013-12-05</th>\n",
        "      <td>  2.963</td>\n",
        "      <td> 0.52194</td>\n",
        "      <td>  1.348</td>\n",
        "      <td>  0.24</td>\n",
        "      <td> 0.483</td>\n",
        "      <td>    0.2</td>\n",
        "      <td>  3.78</td>\n",
        "      <td> 1.65</td>\n",
        "      <td>   0.48</td>\n",
        "      <td> 0.019</td>\n",
        "      <td> 1.082</td>\n",
        "      <td>  0.2416</td>\n",
        "      <td> 0.3905</td>\n",
        "    </tr>\n",
        "  </tbody>\n",
        "</table>\n",
        "</div>"
       ],
       "metadata": {},
       "output_type": "pyout",
       "prompt_number": 30,
       "text": [
        "           ADSW2_Curncy/PX_LAST BP0003M_Curncy/PX_LAST CDSW2_Curncy/PX_LAST  \\\n",
        "2013-11-29                 2.93                0.52219               1.3613   \n",
        "2013-12-02                2.991                0.52281                1.378   \n",
        "2013-12-03                 2.98                0.51981               1.3475   \n",
        "2013-12-04               2.9365                0.51981               1.3375   \n",
        "2013-12-05                2.963                0.52194                1.348   \n",
        "\n",
        "           EUR003M_Curncy/PX_LAST EUSA2_Curncy/PX_LAST JYSW2_Curncy/PX_LAST  \\\n",
        "2013-11-29                  0.234                0.431               0.1969   \n",
        "2013-12-02                  0.236                0.438                0.197   \n",
        "2013-12-03                  0.239                0.435                  0.2   \n",
        "2013-12-04                  0.239                0.458                  0.2   \n",
        "2013-12-05                   0.24                0.483                  0.2   \n",
        "\n",
        "           NDSW2_Curncy/PX_LAST NIBOR3M_Curncy/PX_LAST SDSW2_Curncy/PX_LAST  \\\n",
        "2013-11-29                 3.69                   1.68               0.4655   \n",
        "2013-12-02                3.705                   1.66                 0.47   \n",
        "2013-12-03                 3.72                   1.68                 0.47   \n",
        "2013-12-04                3.755                   1.67                0.483   \n",
        "2013-12-05                 3.78                   1.65                 0.48   \n",
        "\n",
        "           SF0003M_Curncy/PX_LAST STIB3M_Curncy/PX_LAST  \\\n",
        "2013-11-29                  0.015                 1.078   \n",
        "2013-12-02                  0.017                 1.078   \n",
        "2013-12-03                  0.017                 1.076   \n",
        "2013-12-04                  0.019                 1.083   \n",
        "2013-12-05                  0.019                 1.082   \n",
        "\n",
        "           US0003M_Curncy/PX_LAST USSW2_Curncy/PX_LAST  \n",
        "2013-11-29                 0.2391                0.378  \n",
        "2013-12-02                0.23885                0.384  \n",
        "2013-12-03                 0.2413                 0.38  \n",
        "2013-12-04                0.24185                0.386  \n",
        "2013-12-05                 0.2416               0.3905  "
       ]
      }
     ],
     "prompt_number": 30
    },
    {
     "cell_type": "code",
     "collapsed": false,
     "input": [],
     "language": "python",
     "metadata": {},
     "outputs": [],
     "prompt_number": 30
    }
   ],
   "metadata": {}
  }
 ]
}