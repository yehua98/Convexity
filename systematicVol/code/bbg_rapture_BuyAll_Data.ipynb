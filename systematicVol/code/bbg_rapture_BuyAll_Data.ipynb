{
 "metadata": {
  "name": ""
 },
 "nbformat": 3,
 "nbformat_minor": 0,
 "worksheets": [
  {
   "cells": [
    {
     "cell_type": "code",
     "collapsed": false,
     "input": [
      "import sys\n",
      "import os\n",
      "import pandas as pd\n",
      "import datetime\n",
      "import ConfigParser\n",
      "import json\n",
      "import numpy as np"
     ],
     "language": "python",
     "metadata": {},
     "outputs": [],
     "prompt_number": 55
    },
    {
     "cell_type": "code",
     "collapsed": false,
     "input": [
      "# read the configuration file and set the path to IDPResearch directory\n",
      "config = ConfigParser.RawConfigParser()\n",
      "config.read(os.path.abspath('../../idpresearch.cfg'))\n",
      "sys.path.append(os.path.abspath(config.get('IDPResearch','path')))"
     ],
     "language": "python",
     "metadata": {},
     "outputs": [],
     "prompt_number": 56
    },
    {
     "cell_type": "code",
     "collapsed": false,
     "input": [
      "# load modules of idpresearch\n",
      "from idpresearch import rapturelib\n",
      "from idpresearch import utillib\n",
      "from idpresearch import risklib\n",
      "from idpresearch import siglib\n",
      "from idpresearch import plotlib\n",
      "from idpresearch import iolib"
     ],
     "language": "python",
     "metadata": {},
     "outputs": [],
     "prompt_number": 57
    },
    {
     "cell_type": "code",
     "collapsed": false,
     "input": [
      "params = utillib.PathUtil(projectname = 'BuyAll', \n",
      "                          inputcsvdir = os.path.abspath('../data'), \n",
      "                          outputdir = os.path.abspath('../output'),\n",
      "                          resourcedir = os.path.abspath(config.get('IDPResearch','path') + '/resources'))   "
     ],
     "language": "python",
     "metadata": {},
     "outputs": [],
     "prompt_number": 58
    },
    {
     "cell_type": "code",
     "collapsed": false,
     "input": [
      "risk = risklib.Risk()\n",
      "sig = siglib.Sig()\n",
      "plt = plotlib.Plot(params)\n",
      "io = iolib.IO(params)"
     ],
     "language": "python",
     "metadata": {},
     "outputs": [],
     "prompt_number": 59
    },
    {
     "cell_type": "code",
     "collapsed": false,
     "input": [
      "r_url = '54.208.88.106:8665/rapture'\n",
      "r_user = 'rapture'\n",
      "r_password = 'rapture'"
     ],
     "language": "python",
     "metadata": {},
     "outputs": [],
     "prompt_number": 60
    },
    {
     "cell_type": "code",
     "collapsed": false,
     "input": [
      "rap = rapturelib.Rapture(r_url, r_user, r_password, log_level=2)"
     ],
     "language": "python",
     "metadata": {},
     "outputs": [],
     "prompt_number": 61
    },
    {
     "cell_type": "code",
     "collapsed": false,
     "input": [
      "#as roll adjusted data is back adjusted, one has to load data from day 1 everytime.\n",
      "\n",
      "myFile=params.inputcsvdir+'\\BuyAllData.csv'\n",
      "\n",
      "start_date='20000101'\n",
      "    \n",
      "print start_date        "
     ],
     "language": "python",
     "metadata": {},
     "outputs": [
      {
       "output_type": "stream",
       "stream": "stdout",
       "text": [
        "20000101\n"
       ]
      }
     ],
     "prompt_number": 62
    },
    {
     "cell_type": "code",
     "collapsed": false,
     "input": [
      "yesterday = datetime.date.today() - datetime.timedelta(1)\n",
      "yesterday = yesterday.strftime('%Y%m%d')\n",
      "today=datetime.date.today()\n",
      "today=today.strftime('%Y%m%d')\n",
      "print today\n",
      "print yesterday"
     ],
     "language": "python",
     "metadata": {},
     "outputs": [
      {
       "output_type": "stream",
       "stream": "stdout",
       "text": [
        "20131205\n",
        "20131204\n"
       ]
      }
     ],
     "prompt_number": 63
    },
    {
     "cell_type": "code",
     "collapsed": false,
     "input": [
      "bond_ticker = ['TY1', 'RX1', 'G 1', 'JB1'] \n",
      "                          \n",
      "yield_ticker = ['USGG10Y', 'GDBR10', 'GUKG10', 'GJGB10']\n",
      "\n",
      "equity_ticker = ['SP1', 'GX1', 'Z 1', 'NK1']\n",
      "\n",
      "eyield_ticker = ['SPX', 'DAX', 'UKX', 'NKY']\n",
      "\n"
     ],
     "language": "python",
     "metadata": {},
     "outputs": [],
     "prompt_number": 64
    },
    {
     "cell_type": "code",
     "collapsed": false,
     "input": [
      "bond_ticker_R=[x + ' R:00_0_D Comdty' for x in bond_ticker]\n",
      "yield_ticker=[x + ' Index' for x in yield_ticker]\n",
      "equity_ticker_R=[x + ' R:00_0_D Index' for x in equity_ticker]\n",
      "eyield_ticker=[x + ' Index' for x in eyield_ticker]\n",
      "bond_ticker_N=[x + ' R:00_0_N Comdty' for x in bond_ticker]\n",
      "equity_ticker_N=[x + ' R:00_0_N Index' for x in equity_ticker]\n"
     ],
     "language": "python",
     "metadata": {},
     "outputs": [],
     "prompt_number": 65
    },
    {
     "cell_type": "code",
     "collapsed": false,
     "input": [
      "print bond_ticker_R"
     ],
     "language": "python",
     "metadata": {},
     "outputs": [
      {
       "output_type": "stream",
       "stream": "stdout",
       "text": [
        "['TY1 R:00_0_D Comdty', 'RX1 R:00_0_D Comdty', 'G 1 R:00_0_D Comdty', 'JB1 R:00_0_D Comdty']\n"
       ]
      }
     ],
     "prompt_number": 66
    },
    {
     "cell_type": "code",
     "collapsed": false,
     "input": [
      "fields = ['PX_LAST'] \n",
      "program_name = 'gethistory'\n",
      "sd = start_date #after first run change the hard coded start date to variable start_date\n",
      "ed = today\n",
      "print sd\n",
      "print ed\n",
      "                                      "
     ],
     "language": "python",
     "metadata": {},
     "outputs": [
      {
       "output_type": "stream",
       "stream": "stdout",
       "text": [
        "20000101\n",
        "20131205\n"
       ]
      }
     ],
     "prompt_number": 67
    },
    {
     "cell_type": "code",
     "collapsed": false,
     "input": [
      "bondR = rap.request_bloomberg_data(bond_ticker_R, fields, program_name, start=sd, end=ed)"
     ],
     "language": "python",
     "metadata": {},
     "outputs": [
      {
       "output_type": "stream",
       "stream": "stderr",
       "text": [
        "[2013-12-05 21:48] INFO: idpresearch.rapturelib: Identifier for Bloomberg request - Rapt5ea06cc81d\n"
       ]
      },
      {
       "output_type": "stream",
       "stream": "stderr",
       "text": [
        "[2013-12-05 21:48] INFO: idpresearch.rapturelib: Calling - //bloomberg.configuration/statusFTP...\n"
       ]
      },
      {
       "output_type": "stream",
       "stream": "stderr",
       "text": [
        "[2013-12-05 21:48] INFO: idpresearch.rapturelib: Calling - //bloomberg.configuration/statusFTP...\n"
       ]
      },
      {
       "output_type": "stream",
       "stream": "stderr",
       "text": [
        "[2013-12-05 21:48] INFO: idpresearch.rapturelib: Calling - //bloomberg.configuration/statusFTP...\n"
       ]
      },
      {
       "output_type": "stream",
       "stream": "stderr",
       "text": [
        "[2013-12-05 21:48] INFO: idpresearch.rapturelib: Calling - //bloomberg.configuration/statusFTP...\n"
       ]
      },
      {
       "output_type": "stream",
       "stream": "stderr",
       "text": [
        "[2013-12-05 21:48] INFO: idpresearch.rapturelib: Calling - //bloomberg.configuration/statusFTP...\n"
       ]
      },
      {
       "output_type": "stream",
       "stream": "stderr",
       "text": [
        "[2013-12-05 21:49] INFO: idpresearch.rapturelib: Calling - //bloomberg.configuration/statusFTP...\n"
       ]
      }
     ],
     "prompt_number": 68
    },
    {
     "cell_type": "code",
     "collapsed": false,
     "input": [
      "fields = ['PX_LAST'] \n",
      "program_name = 'gethistory'\n",
      "sd = start_date #after first run change the hard coded start date to variable start_date\n",
      "ed = today\n",
      "%time bondYield = rap.request_bloomberg_data(yield_ticker, fields, program_name, start=sd, end=ed)\n",
      "\n"
     ],
     "language": "python",
     "metadata": {},
     "outputs": [
      {
       "output_type": "stream",
       "stream": "stderr",
       "text": [
        "[2013-12-05 21:49] INFO: idpresearch.rapturelib: Identifier for Bloomberg request - Raptf198552a2f\n"
       ]
      },
      {
       "output_type": "stream",
       "stream": "stderr",
       "text": [
        "[2013-12-05 21:49] INFO: idpresearch.rapturelib: Calling - //bloomberg.configuration/statusFTP...\n"
       ]
      },
      {
       "output_type": "stream",
       "stream": "stderr",
       "text": [
        "[2013-12-05 21:49] INFO: idpresearch.rapturelib: Calling - //bloomberg.configuration/statusFTP...\n"
       ]
      },
      {
       "output_type": "stream",
       "stream": "stderr",
       "text": [
        "[2013-12-05 21:49] INFO: idpresearch.rapturelib: Calling - //bloomberg.configuration/statusFTP...\n"
       ]
      },
      {
       "output_type": "stream",
       "stream": "stderr",
       "text": [
        "[2013-12-05 21:49] INFO: idpresearch.rapturelib: Calling - //bloomberg.configuration/statusFTP...\n"
       ]
      },
      {
       "output_type": "stream",
       "stream": "stderr",
       "text": [
        "[2013-12-05 21:50] INFO: idpresearch.rapturelib: Calling - //bloomberg.configuration/statusFTP...\n"
       ]
      },
      {
       "output_type": "stream",
       "stream": "stderr",
       "text": [
        "[2013-12-05 21:50] INFO: idpresearch.rapturelib: Calling - //bloomberg.configuration/statusFTP...\n"
       ]
      },
      {
       "output_type": "stream",
       "stream": "stdout",
       "text": [
        "Wall time: 1min 9s\n"
       ]
      }
     ],
     "prompt_number": 69
    },
    {
     "cell_type": "code",
     "collapsed": false,
     "input": [
      "fields = ['PX_LAST'] \n",
      "program_name = 'gethistory'\n",
      "sd = start_date #after first run change the hard coded start date to variable start_date\n",
      "ed = today\n",
      "%time equityR = rap.request_bloomberg_data(equity_ticker_R, fields, program_name, start=sd, end=ed)\n",
      "                                   "
     ],
     "language": "python",
     "metadata": {},
     "outputs": [
      {
       "output_type": "stream",
       "stream": "stderr",
       "text": [
        "[2013-12-05 21:50] INFO: idpresearch.rapturelib: Identifier for Bloomberg request - Rapt162db8ceda\n"
       ]
      },
      {
       "output_type": "stream",
       "stream": "stderr",
       "text": [
        "[2013-12-05 21:50] INFO: idpresearch.rapturelib: Calling - //bloomberg.configuration/statusFTP...\n"
       ]
      },
      {
       "output_type": "stream",
       "stream": "stderr",
       "text": [
        "[2013-12-05 21:50] INFO: idpresearch.rapturelib: Calling - //bloomberg.configuration/statusFTP...\n"
       ]
      },
      {
       "output_type": "stream",
       "stream": "stderr",
       "text": [
        "[2013-12-05 21:50] INFO: idpresearch.rapturelib: Calling - //bloomberg.configuration/statusFTP...\n"
       ]
      },
      {
       "output_type": "stream",
       "stream": "stderr",
       "text": [
        "[2013-12-05 21:51] INFO: idpresearch.rapturelib: Calling - //bloomberg.configuration/statusFTP...\n"
       ]
      },
      {
       "output_type": "stream",
       "stream": "stderr",
       "text": [
        "[2013-12-05 21:51] INFO: idpresearch.rapturelib: Calling - //bloomberg.configuration/statusFTP...\n"
       ]
      },
      {
       "output_type": "stream",
       "stream": "stdout",
       "text": [
        "Wall time: 1min 2s\n"
       ]
      }
     ],
     "prompt_number": 70
    },
    {
     "cell_type": "code",
     "collapsed": false,
     "input": [
      "fields = ['DV014'] \n",
      "program_name = 'gethistory'\n",
      "sd = start_date #after first run change the hard coded start date to variable start_date\n",
      "ed = today\n",
      "%time equityYield = rap.request_bloomberg_data(eyield_ticker, fields, program_name, start=sd, end=ed)"
     ],
     "language": "python",
     "metadata": {},
     "outputs": [
      {
       "output_type": "stream",
       "stream": "stderr",
       "text": [
        "[2013-12-05 21:51] INFO: idpresearch.rapturelib: Identifier for Bloomberg request - Rapt282a564840\n"
       ]
      },
      {
       "output_type": "stream",
       "stream": "stderr",
       "text": [
        "[2013-12-05 21:51] INFO: idpresearch.rapturelib: Calling - //bloomberg.configuration/statusFTP...\n"
       ]
      },
      {
       "output_type": "stream",
       "stream": "stderr",
       "text": [
        "[2013-12-05 21:51] INFO: idpresearch.rapturelib: Calling - //bloomberg.configuration/statusFTP...\n"
       ]
      },
      {
       "output_type": "stream",
       "stream": "stderr",
       "text": [
        "[2013-12-05 21:51] INFO: idpresearch.rapturelib: Calling - //bloomberg.configuration/statusFTP...\n"
       ]
      },
      {
       "output_type": "stream",
       "stream": "stderr",
       "text": [
        "[2013-12-05 21:52] INFO: idpresearch.rapturelib: Calling - //bloomberg.configuration/statusFTP...\n"
       ]
      },
      {
       "output_type": "stream",
       "stream": "stderr",
       "text": [
        "[2013-12-05 21:52] INFO: idpresearch.rapturelib: Calling - //bloomberg.configuration/statusFTP...\n"
       ]
      },
      {
       "output_type": "stream",
       "stream": "stdout",
       "text": [
        "Wall time: 57.9 s\n"
       ]
      }
     ],
     "prompt_number": 71
    },
    {
     "cell_type": "code",
     "collapsed": false,
     "input": [
      "fields = ['PX_LAST'] \n",
      "program_name = 'gethistory'\n",
      "sd = start_date #after first run change the hard coded start date to variable start_date\n",
      "ed = today\n",
      "%time bondN = rap.request_bloomberg_data(bond_ticker_N, fields, program_name, start=sd, end=ed)\n",
      "     "
     ],
     "language": "python",
     "metadata": {},
     "outputs": [
      {
       "output_type": "stream",
       "stream": "stderr",
       "text": [
        "[2013-12-05 21:52] INFO: idpresearch.rapturelib: Identifier for Bloomberg request - Rapt9decd54cfc\n"
       ]
      },
      {
       "output_type": "stream",
       "stream": "stderr",
       "text": [
        "[2013-12-05 21:52] INFO: idpresearch.rapturelib: Calling - //bloomberg.configuration/statusFTP...\n"
       ]
      },
      {
       "output_type": "stream",
       "stream": "stderr",
       "text": [
        "[2013-12-05 21:52] INFO: idpresearch.rapturelib: Calling - //bloomberg.configuration/statusFTP...\n"
       ]
      },
      {
       "output_type": "stream",
       "stream": "stderr",
       "text": [
        "[2013-12-05 21:52] INFO: idpresearch.rapturelib: Calling - //bloomberg.configuration/statusFTP...\n"
       ]
      },
      {
       "output_type": "stream",
       "stream": "stderr",
       "text": [
        "[2013-12-05 21:53] INFO: idpresearch.rapturelib: Calling - //bloomberg.configuration/statusFTP...\n"
       ]
      },
      {
       "output_type": "stream",
       "stream": "stderr",
       "text": [
        "[2013-12-05 21:53] INFO: idpresearch.rapturelib: Calling - //bloomberg.configuration/statusFTP...\n"
       ]
      },
      {
       "output_type": "stream",
       "stream": "stderr",
       "text": [
        "[2013-12-05 21:53] INFO: idpresearch.rapturelib: Calling - //bloomberg.configuration/statusFTP...\n"
       ]
      },
      {
       "output_type": "stream",
       "stream": "stdout",
       "text": [
        "Wall time: 1min 6s\n"
       ]
      }
     ],
     "prompt_number": 72
    },
    {
     "cell_type": "code",
     "collapsed": false,
     "input": [
      "fields = ['PX_LAST'] \n",
      "program_name = 'gethistory'\n",
      "sd = start_date #after first run change the hard coded start date to variable start_date\n",
      "ed = today\n",
      "%time equityIndex = rap.request_bloomberg_data(eyield_ticker, fields, program_name, start=sd, end=ed)"
     ],
     "language": "python",
     "metadata": {},
     "outputs": [
      {
       "output_type": "stream",
       "stream": "stderr",
       "text": [
        "[2013-12-05 21:53] INFO: idpresearch.rapturelib: Identifier for Bloomberg request - Rapta1d39870ee\n"
       ]
      },
      {
       "output_type": "stream",
       "stream": "stderr",
       "text": [
        "[2013-12-05 21:53] INFO: idpresearch.rapturelib: Calling - //bloomberg.configuration/statusFTP...\n"
       ]
      },
      {
       "output_type": "stream",
       "stream": "stderr",
       "text": [
        "[2013-12-05 21:53] INFO: idpresearch.rapturelib: Calling - //bloomberg.configuration/statusFTP...\n"
       ]
      },
      {
       "output_type": "stream",
       "stream": "stderr",
       "text": [
        "[2013-12-05 21:54] INFO: idpresearch.rapturelib: Calling - //bloomberg.configuration/statusFTP...\n"
       ]
      },
      {
       "output_type": "stream",
       "stream": "stderr",
       "text": [
        "[2013-12-05 21:54] INFO: idpresearch.rapturelib: Calling - //bloomberg.configuration/statusFTP...\n"
       ]
      },
      {
       "output_type": "stream",
       "stream": "stderr",
       "text": [
        "[2013-12-05 21:54] INFO: idpresearch.rapturelib: Calling - //bloomberg.configuration/statusFTP...\n"
       ]
      },
      {
       "output_type": "stream",
       "stream": "stdout",
       "text": [
        "Wall time: 1min\n"
       ]
      }
     ],
     "prompt_number": 73
    },
    {
     "cell_type": "code",
     "collapsed": false,
     "input": [
      "equityYield.tail()"
     ],
     "language": "python",
     "metadata": {},
     "outputs": [
      {
       "html": [
        "<div style=\"max-height:1000px;max-width:1500px;overflow:auto;\">\n",
        "<table border=\"1\" class=\"dataframe\">\n",
        "  <thead>\n",
        "    <tr style=\"text-align: right;\">\n",
        "      <th></th>\n",
        "      <th>DAX_Index/DV014</th>\n",
        "      <th>NKY_Index/DV014</th>\n",
        "      <th>SPX_Index/DV014</th>\n",
        "      <th>UKX_Index/DV014</th>\n",
        "    </tr>\n",
        "  </thead>\n",
        "  <tbody>\n",
        "    <tr>\n",
        "      <th>2013-11-29</th>\n",
        "      <td> 2.8729</td>\n",
        "      <td> 1.4039</td>\n",
        "      <td> 1.9704</td>\n",
        "      <td> 3.7127</td>\n",
        "    </tr>\n",
        "    <tr>\n",
        "      <th>2013-12-02</th>\n",
        "      <td> 2.8739</td>\n",
        "      <td> 1.4045</td>\n",
        "      <td> 1.9761</td>\n",
        "      <td> 3.7606</td>\n",
        "    </tr>\n",
        "    <tr>\n",
        "      <th>2013-12-03</th>\n",
        "      <td> 2.9296</td>\n",
        "      <td> 1.3961</td>\n",
        "      <td> 1.9843</td>\n",
        "      <td> 3.7968</td>\n",
        "    </tr>\n",
        "    <tr>\n",
        "      <th>2013-12-04</th>\n",
        "      <td> 2.9561</td>\n",
        "      <td>  1.427</td>\n",
        "      <td> 1.9874</td>\n",
        "      <td> 3.8127</td>\n",
        "    </tr>\n",
        "    <tr>\n",
        "      <th>2013-12-05</th>\n",
        "      <td> 2.9742</td>\n",
        "      <td> 1.4487</td>\n",
        "      <td> 1.9961</td>\n",
        "      <td> 3.8195</td>\n",
        "    </tr>\n",
        "  </tbody>\n",
        "</table>\n",
        "</div>"
       ],
       "metadata": {},
       "output_type": "pyout",
       "prompt_number": 74,
       "text": [
        "           DAX_Index/DV014 NKY_Index/DV014 SPX_Index/DV014 UKX_Index/DV014\n",
        "2013-11-29          2.8729          1.4039          1.9704          3.7127\n",
        "2013-12-02          2.8739          1.4045          1.9761          3.7606\n",
        "2013-12-03          2.9296          1.3961          1.9843          3.7968\n",
        "2013-12-04          2.9561           1.427          1.9874          3.8127\n",
        "2013-12-05          2.9742          1.4487          1.9961          3.8195"
       ]
      }
     ],
     "prompt_number": 74
    },
    {
     "cell_type": "code",
     "collapsed": false,
     "input": [
      "resp = rap.create_authority('DeltaOne', 'Series')"
     ],
     "language": "python",
     "metadata": {},
     "outputs": [],
     "prompt_number": 75
    },
    {
     "cell_type": "code",
     "collapsed": false,
     "input": [
      "for idx,column in enumerate(bondR):\n",
      "    newCol = (bondR.iloc[:,idx]).dropna()\n",
      "    resp = rap.put_series_data('DeltaOne', newCol, prefix='BuyAll/Fut')\n"
     ],
     "language": "python",
     "metadata": {},
     "outputs": [],
     "prompt_number": 76
    },
    {
     "cell_type": "code",
     "collapsed": false,
     "input": [
      "for idx,column in enumerate(bondYield):\n",
      "    newCol = (bondYield.iloc[:,idx]).dropna()\n",
      "    resp = rap.put_series_data('DeltaOne', newCol, prefix='BuyAll/Fut')\n"
     ],
     "language": "python",
     "metadata": {},
     "outputs": [],
     "prompt_number": 77
    },
    {
     "cell_type": "code",
     "collapsed": false,
     "input": [
      "for idx,column in enumerate(equityR):\n",
      "    newCol = (equityR.iloc[:,idx]).dropna()\n",
      "    resp = rap.put_series_data('DeltaOne', newCol, prefix='BuyAll/Fut')\n"
     ],
     "language": "python",
     "metadata": {},
     "outputs": [],
     "prompt_number": 78
    },
    {
     "cell_type": "code",
     "collapsed": false,
     "input": [
      "for idx,column in enumerate(equityYield):\n",
      "    newCol = (equityYield.iloc[:,idx]).dropna()\n",
      "    resp = rap.put_series_data('DeltaOne', newCol, prefix='BuyAll/Fut')"
     ],
     "language": "python",
     "metadata": {},
     "outputs": [],
     "prompt_number": 79
    },
    {
     "cell_type": "code",
     "collapsed": false,
     "input": [
      "for idx,column in enumerate(bondN):\n",
      "    newCol = (bondN.iloc[:,idx]).dropna()\n",
      "    resp = rap.put_series_data('DeltaOne', newCol, prefix='BuyAll/Fut')"
     ],
     "language": "python",
     "metadata": {},
     "outputs": [],
     "prompt_number": 80
    },
    {
     "cell_type": "code",
     "collapsed": false,
     "input": [
      "for idx,column in enumerate(equityIndex):\n",
      "    newCol = (equityIndex.iloc[:,idx]).dropna()\n",
      "    resp = rap.put_series_data('DeltaOne', newCol, prefix='BuyAll/Fut')"
     ],
     "language": "python",
     "metadata": {},
     "outputs": [],
     "prompt_number": 81
    },
    {
     "cell_type": "code",
     "collapsed": false,
     "input": [
      "#rap.delete_authority('sytematicVol','Series')"
     ],
     "language": "python",
     "metadata": {},
     "outputs": [],
     "prompt_number": 82
    },
    {
     "cell_type": "code",
     "collapsed": false,
     "input": [
      "equityYield"
     ],
     "language": "python",
     "metadata": {},
     "outputs": [
      {
       "html": [
        "<pre>\n",
        "&lt;class 'pandas.core.frame.DataFrame'&gt;\n",
        "DatetimeIndex: 3548 entries, 2000-01-03 00:00:00 to 2013-12-05 00:00:00\n",
        "Data columns (total 4 columns):\n",
        "DAX_Index/DV014    3548  non-null values\n",
        "NKY_Index/DV014    3359  non-null values\n",
        "SPX_Index/DV014    3455  non-null values\n",
        "UKX_Index/DV014    3494  non-null values\n",
        "dtypes: object(4)\n",
        "</pre>"
       ],
       "metadata": {},
       "output_type": "pyout",
       "prompt_number": 83,
       "text": [
        "<class 'pandas.core.frame.DataFrame'>\n",
        "DatetimeIndex: 3548 entries, 2000-01-03 00:00:00 to 2013-12-05 00:00:00\n",
        "Data columns (total 4 columns):\n",
        "DAX_Index/DV014    3548  non-null values\n",
        "NKY_Index/DV014    3359  non-null values\n",
        "SPX_Index/DV014    3455  non-null values\n",
        "UKX_Index/DV014    3494  non-null values\n",
        "dtypes: object(4)"
       ]
      }
     ],
     "prompt_number": 83
    },
    {
     "cell_type": "code",
     "collapsed": false,
     "input": [
      "fut1_ticker=[('BuyAll/Fut/'+ x ).replace(' ','_')  for x in bondR]\n",
      "fut2_ticker=[('BuyAll/Fut/'+ x ).replace(' ','_')  for x in bondYield]\n",
      "fut3_ticker=[('BuyAll/Fut/'+ x ).replace(' ','_')  for x in equityR]\n",
      "fut4_ticker=[('BuyAll/Fut/'+ x ).replace(' ','_')  for x in equityYield]\n",
      "fut5_ticker=[('BuyAll/Fut/'+ x ).replace(' ','_')  for x in bondN]\n",
      "fut6_ticker=[('BuyAll/Fut/'+ x ).replace(' ','_')  for x in equityIndex]\n",
      "\n"
     ],
     "language": "python",
     "metadata": {},
     "outputs": [],
     "prompt_number": 84
    },
    {
     "cell_type": "code",
     "collapsed": false,
     "input": [
      "fut1_ticker"
     ],
     "language": "python",
     "metadata": {},
     "outputs": [
      {
       "metadata": {},
       "output_type": "pyout",
       "prompt_number": 85,
       "text": [
        "['BuyAll/Fut/G_1_R:00_0_D_Comdty/PX_LAST',\n",
        " 'BuyAll/Fut/JB1_R:00_0_D_Comdty/PX_LAST',\n",
        " 'BuyAll/Fut/RX1_R:00_0_D_Comdty/PX_LAST',\n",
        " 'BuyAll/Fut/TY1_R:00_0_D_Comdty/PX_LAST']"
       ]
      }
     ],
     "prompt_number": 85
    },
    {
     "cell_type": "code",
     "collapsed": false,
     "input": [
      "uris = fut1_ticker+fut2_ticker+fut3_ticker+fut4_ticker+fut5_ticker+fut6_ticker\n",
      "\n",
      "\n",
      "resp = rap.get_series_data('DeltaOne',  uris,start='19950101',end=today)\n",
      "resp = resp.ffill() #forward fill the gaps in data\n"
     ],
     "language": "python",
     "metadata": {},
     "outputs": [],
     "prompt_number": 86
    },
    {
     "cell_type": "code",
     "collapsed": false,
     "input": [
      "resp.tail()"
     ],
     "language": "python",
     "metadata": {},
     "outputs": [
      {
       "html": [
        "<pre>\n",
        "&lt;class 'pandas.core.frame.DataFrame'&gt;\n",
        "DatetimeIndex: 5 entries, 2013-11-29 00:00:00 to 2013-12-05 00:00:00\n",
        "Data columns (total 24 columns):\n",
        "BuyAll/Fut/G_1_R:00_0_D_Comdty/PX_LAST    5  non-null values\n",
        "BuyAll/Fut/JB1_R:00_0_D_Comdty/PX_LAST    5  non-null values\n",
        "BuyAll/Fut/RX1_R:00_0_D_Comdty/PX_LAST    5  non-null values\n",
        "BuyAll/Fut/TY1_R:00_0_D_Comdty/PX_LAST    5  non-null values\n",
        "BuyAll/Fut/GDBR10_Index/PX_LAST           5  non-null values\n",
        "BuyAll/Fut/GJGB10_Index/PX_LAST           5  non-null values\n",
        "BuyAll/Fut/GUKG10_Index/PX_LAST           5  non-null values\n",
        "BuyAll/Fut/USGG10Y_Index/PX_LAST          5  non-null values\n",
        "BuyAll/Fut/GX1_R:00_0_D_Index/PX_LAST     5  non-null values\n",
        "BuyAll/Fut/NK1_R:00_0_D_Index/PX_LAST     5  non-null values\n",
        "BuyAll/Fut/SP1_R:00_0_D_Index/PX_LAST     5  non-null values\n",
        "BuyAll/Fut/Z_1_R:00_0_D_Index/PX_LAST     5  non-null values\n",
        "BuyAll/Fut/DAX_Index/DV014                5  non-null values\n",
        "BuyAll/Fut/NKY_Index/DV014                5  non-null values\n",
        "BuyAll/Fut/SPX_Index/DV014                5  non-null values\n",
        "BuyAll/Fut/UKX_Index/DV014                5  non-null values\n",
        "BuyAll/Fut/G_1_R:00_0_N_Comdty/PX_LAST    5  non-null values\n",
        "BuyAll/Fut/JB1_R:00_0_N_Comdty/PX_LAST    5  non-null values\n",
        "BuyAll/Fut/RX1_R:00_0_N_Comdty/PX_LAST    5  non-null values\n",
        "BuyAll/Fut/TY1_R:00_0_N_Comdty/PX_LAST    5  non-null values\n",
        "BuyAll/Fut/DAX_Index/PX_LAST              5  non-null values\n",
        "BuyAll/Fut/NKY_Index/PX_LAST              5  non-null values\n",
        "BuyAll/Fut/SPX_Index/PX_LAST              5  non-null values\n",
        "BuyAll/Fut/UKX_Index/PX_LAST              5  non-null values\n",
        "dtypes: object(24)\n",
        "</pre>"
       ],
       "metadata": {},
       "output_type": "pyout",
       "prompt_number": 87,
       "text": [
        "<class 'pandas.core.frame.DataFrame'>\n",
        "DatetimeIndex: 5 entries, 2013-11-29 00:00:00 to 2013-12-05 00:00:00\n",
        "Data columns (total 24 columns):\n",
        "BuyAll/Fut/G_1_R:00_0_D_Comdty/PX_LAST    5  non-null values\n",
        "BuyAll/Fut/JB1_R:00_0_D_Comdty/PX_LAST    5  non-null values\n",
        "BuyAll/Fut/RX1_R:00_0_D_Comdty/PX_LAST    5  non-null values\n",
        "BuyAll/Fut/TY1_R:00_0_D_Comdty/PX_LAST    5  non-null values\n",
        "BuyAll/Fut/GDBR10_Index/PX_LAST           5  non-null values\n",
        "BuyAll/Fut/GJGB10_Index/PX_LAST           5  non-null values\n",
        "BuyAll/Fut/GUKG10_Index/PX_LAST           5  non-null values\n",
        "BuyAll/Fut/USGG10Y_Index/PX_LAST          5  non-null values\n",
        "BuyAll/Fut/GX1_R:00_0_D_Index/PX_LAST     5  non-null values\n",
        "BuyAll/Fut/NK1_R:00_0_D_Index/PX_LAST     5  non-null values\n",
        "BuyAll/Fut/SP1_R:00_0_D_Index/PX_LAST     5  non-null values\n",
        "BuyAll/Fut/Z_1_R:00_0_D_Index/PX_LAST     5  non-null values\n",
        "BuyAll/Fut/DAX_Index/DV014                5  non-null values\n",
        "BuyAll/Fut/NKY_Index/DV014                5  non-null values\n",
        "BuyAll/Fut/SPX_Index/DV014                5  non-null values\n",
        "BuyAll/Fut/UKX_Index/DV014                5  non-null values\n",
        "BuyAll/Fut/G_1_R:00_0_N_Comdty/PX_LAST    5  non-null values\n",
        "BuyAll/Fut/JB1_R:00_0_N_Comdty/PX_LAST    5  non-null values\n",
        "BuyAll/Fut/RX1_R:00_0_N_Comdty/PX_LAST    5  non-null values\n",
        "BuyAll/Fut/TY1_R:00_0_N_Comdty/PX_LAST    5  non-null values\n",
        "BuyAll/Fut/DAX_Index/PX_LAST              5  non-null values\n",
        "BuyAll/Fut/NKY_Index/PX_LAST              5  non-null values\n",
        "BuyAll/Fut/SPX_Index/PX_LAST              5  non-null values\n",
        "BuyAll/Fut/UKX_Index/PX_LAST              5  non-null values\n",
        "dtypes: object(24)"
       ]
      }
     ],
     "prompt_number": 87
    },
    {
     "cell_type": "code",
     "collapsed": false,
     "input": [
      "resp.columns=[x.replace('R:00_0_','_').replace('_',' ') for x in resp.columns]\n",
      "resp.columns=[x.split('/')[2]+'/'+x.split('/')[3] for x in resp.columns]\n",
      "resp.ffill()"
     ],
     "language": "python",
     "metadata": {},
     "outputs": [
      {
       "html": [
        "<pre>\n",
        "&lt;class 'pandas.core.frame.DataFrame'&gt;\n",
        "DatetimeIndex: 3564 entries, 2000-01-04 00:00:00 to 2013-12-05 00:00:00\n",
        "Data columns (total 24 columns):\n",
        "G 1  D Comdty/PX LAST    3564  non-null values\n",
        "JB1  D Comdty/PX LAST    3564  non-null values\n",
        "RX1  D Comdty/PX LAST    3564  non-null values\n",
        "TY1  D Comdty/PX LAST    3564  non-null values\n",
        "GDBR10 Index/PX LAST     3564  non-null values\n",
        "GJGB10 Index/PX LAST     3564  non-null values\n",
        "GUKG10 Index/PX LAST     3564  non-null values\n",
        "USGG10Y Index/PX LAST    3564  non-null values\n",
        "GX1  D Index/PX LAST     3564  non-null values\n",
        "NK1  D Index/PX LAST     3564  non-null values\n",
        "SP1  D Index/PX LAST     3564  non-null values\n",
        "Z 1  D Index/PX LAST     3564  non-null values\n",
        "DAX Index/DV014          3564  non-null values\n",
        "NKY Index/DV014          3564  non-null values\n",
        "SPX Index/DV014          3564  non-null values\n",
        "UKX Index/DV014          3564  non-null values\n",
        "G 1  N Comdty/PX LAST    3564  non-null values\n",
        "JB1  N Comdty/PX LAST    3564  non-null values\n",
        "RX1  N Comdty/PX LAST    3564  non-null values\n",
        "TY1  N Comdty/PX LAST    3564  non-null values\n",
        "DAX Index/PX LAST        3564  non-null values\n",
        "NKY Index/PX LAST        3564  non-null values\n",
        "SPX Index/PX LAST        3564  non-null values\n",
        "UKX Index/PX LAST        3564  non-null values\n",
        "dtypes: object(24)\n",
        "</pre>"
       ],
       "metadata": {},
       "output_type": "pyout",
       "prompt_number": 88,
       "text": [
        "<class 'pandas.core.frame.DataFrame'>\n",
        "DatetimeIndex: 3564 entries, 2000-01-04 00:00:00 to 2013-12-05 00:00:00\n",
        "Data columns (total 24 columns):\n",
        "G 1  D Comdty/PX LAST    3564  non-null values\n",
        "JB1  D Comdty/PX LAST    3564  non-null values\n",
        "RX1  D Comdty/PX LAST    3564  non-null values\n",
        "TY1  D Comdty/PX LAST    3564  non-null values\n",
        "GDBR10 Index/PX LAST     3564  non-null values\n",
        "GJGB10 Index/PX LAST     3564  non-null values\n",
        "GUKG10 Index/PX LAST     3564  non-null values\n",
        "USGG10Y Index/PX LAST    3564  non-null values\n",
        "GX1  D Index/PX LAST     3564  non-null values\n",
        "NK1  D Index/PX LAST     3564  non-null values\n",
        "SP1  D Index/PX LAST     3564  non-null values\n",
        "Z 1  D Index/PX LAST     3564  non-null values\n",
        "DAX Index/DV014          3564  non-null values\n",
        "NKY Index/DV014          3564  non-null values\n",
        "SPX Index/DV014          3564  non-null values\n",
        "UKX Index/DV014          3564  non-null values\n",
        "G 1  N Comdty/PX LAST    3564  non-null values\n",
        "JB1  N Comdty/PX LAST    3564  non-null values\n",
        "RX1  N Comdty/PX LAST    3564  non-null values\n",
        "TY1  N Comdty/PX LAST    3564  non-null values\n",
        "DAX Index/PX LAST        3564  non-null values\n",
        "NKY Index/PX LAST        3564  non-null values\n",
        "SPX Index/PX LAST        3564  non-null values\n",
        "UKX Index/PX LAST        3564  non-null values\n",
        "dtypes: object(24)"
       ]
      }
     ],
     "prompt_number": 88
    },
    {
     "cell_type": "code",
     "collapsed": false,
     "input": [
      "resp.to_csv(params.inputcsvdir+'\\BuyAllData.csv',mode='w', header=True)"
     ],
     "language": "python",
     "metadata": {},
     "outputs": [],
     "prompt_number": 89
    },
    {
     "cell_type": "code",
     "collapsed": false,
     "input": [],
     "language": "python",
     "metadata": {},
     "outputs": [],
     "prompt_number": 89
    }
   ],
   "metadata": {}
  }
 ]
}