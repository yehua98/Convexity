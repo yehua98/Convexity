{
 "metadata": {
  "name": ""
 },
 "nbformat": 3,
 "nbformat_minor": 0,
 "worksheets": [
  {
   "cells": [
    {
     "cell_type": "code",
     "collapsed": false,
     "input": [
      "import sys\n",
      "import os\n",
      "import pandas as pd\n",
      "import datetime\n",
      "import ConfigParser\n",
      "import json\n",
      "import numpy as np"
     ],
     "language": "python",
     "metadata": {},
     "outputs": [],
     "prompt_number": 1
    },
    {
     "cell_type": "code",
     "collapsed": false,
     "input": [
      "# read the configuration file and set the path to IDPResearch directory\n",
      "config = ConfigParser.RawConfigParser()\n",
      "config.read(os.path.abspath('../../idpresearch.cfg'))\n",
      "sys.path.append(os.path.abspath(config.get('IDPResearch','path')))"
     ],
     "language": "python",
     "metadata": {},
     "outputs": [],
     "prompt_number": 2
    },
    {
     "cell_type": "code",
     "collapsed": false,
     "input": [
      "# load modules of idpresearch\n",
      "from idpresearch import rapturelib\n",
      "from idpresearch import utillib\n",
      "from idpresearch import risklib\n",
      "from idpresearch import siglib\n",
      "from idpresearch import plotlib\n",
      "from idpresearch import iolib"
     ],
     "language": "python",
     "metadata": {},
     "outputs": [],
     "prompt_number": 3
    },
    {
     "cell_type": "code",
     "collapsed": false,
     "input": [
      "params = utillib.PathUtil(projectname = 'systematicFXVol', \n",
      "                          inputcsvdir = os.path.abspath('../data'), \n",
      "                          outputdir = os.path.abspath('../output'),\n",
      "                          resourcedir = os.path.abspath(config.get('IDPResearch','path') + '/resources'))   "
     ],
     "language": "python",
     "metadata": {},
     "outputs": [],
     "prompt_number": 4
    },
    {
     "cell_type": "code",
     "collapsed": false,
     "input": [
      "risk = risklib.Risk()\n",
      "sig = siglib.Sig()\n",
      "plt = plotlib.Plot(params)\n",
      "io = iolib.IO(params)"
     ],
     "language": "python",
     "metadata": {},
     "outputs": [],
     "prompt_number": 5
    },
    {
     "cell_type": "code",
     "collapsed": false,
     "input": [
      "r_url = '54.208.88.106:8665/rapture'\n",
      "r_user = 'rapture'\n",
      "r_password = 'rapture'"
     ],
     "language": "python",
     "metadata": {},
     "outputs": [],
     "prompt_number": 6
    },
    {
     "cell_type": "code",
     "collapsed": false,
     "input": [
      "rap = rapturelib.Rapture(r_url, r_user, r_password)"
     ],
     "language": "python",
     "metadata": {},
     "outputs": [],
     "prompt_number": 7
    },
    {
     "cell_type": "code",
     "collapsed": false,
     "input": [
      "myFile=params.inputcsvdir+'\\FXVolData.csv'\n",
      "\n",
      "if os.path.isfile(myFile):\n",
      "    df = pd.read_csv(params.inputcsvdir+'\\FXVolData.csv', index_col=0, parse_dates=True)\n",
      "    start_date=df.index[-1] + datetime.timedelta(1)\n",
      "    start_date = start_date.strftime('%Y%m%d')\n",
      "    print start_date\n",
      "    \n",
      "else:\n",
      "    start_date='20000101'\n",
      "    \n",
      "print start_date        "
     ],
     "language": "python",
     "metadata": {},
     "outputs": [
      {
       "output_type": "stream",
       "stream": "stdout",
       "text": [
        "20131127\n",
        "20131127\n"
       ]
      }
     ],
     "prompt_number": 8
    },
    {
     "cell_type": "code",
     "collapsed": false,
     "input": [
      "yesterday = datetime.date.today() - datetime.timedelta(1)\n",
      "yesterday = yesterday.strftime('%Y%m%d')\n",
      "today=datetime.date.today()\n",
      "today=today.strftime('%Y%m%d')\n",
      "print yesterday"
     ],
     "language": "python",
     "metadata": {},
     "outputs": [
      {
       "output_type": "stream",
       "stream": "stdout",
       "text": [
        "20131126\n"
       ]
      }
     ],
     "prompt_number": 9
    },
    {
     "cell_type": "code",
     "collapsed": false,
     "input": [
      "spot_ticker = ['EURUSD', 'USDJPY', 'EURJPY', 'GBPUSD', 'EURGBP', 'USDCHF', 'USDCAD', 'AUDUSD', 'EURNOK', 'EURSEK'] \n",
      "                          \n",
      "vol_ticker = ['EURUSDV3M', 'USDJPYV3M', 'EURJPYV3M', 'GBPUSDV3M', 'EURGBPV3M', 'USDCHFV3M', 'USDCADV3M', 'AUDUSDV3M', 'EURNOKV3M', 'EURSEKV3M'] \n",
      "\n",
      "domestic_rate_ticker = ['EUR003M', 'US0003M','EUR003M','BP0003M','EUR003M','US0003M','US0003M','AU0003M','EUR003M','EUR003M']\n",
      "\n",
      "foreign_rate_ticker = ['US0003M','TI0003M','TI0003M', 'US0003M','BP0003M', 'SF0003M', 'CD0003M','US0003M','NIBOR3M','STIB3M' ] \n",
      "\n",
      "vol1M_ticker = ['EURUSDV1M', 'USDJPYV1M', 'EURJPYV1M', 'GBPUSDV1M', 'EURGBPV1M', 'USDCHFV1M', 'USDCADV1M', 'AUDUSDV1M', 'EURNOKV1M', 'EURSEKV1M']\n",
      "\n",
      "vol1Y_ticker = ['EURUSDV1Y', 'USDJPYV1Y', 'EURJPYV1Y', 'GBPUSDV1Y', 'EURGBPV1Y', 'USDCHFV1Y', 'USDCADV1Y', 'AUDUSDV1Y', 'EURNOKV1Y', 'EURSEKV1Y']"
     ],
     "language": "python",
     "metadata": {},
     "outputs": [],
     "prompt_number": 10
    },
    {
     "cell_type": "code",
     "collapsed": false,
     "input": [
      "rate_ticker=domestic_rate_ticker + foreign_rate_ticker\n",
      "rate_ticker=set(rate_ticker)\n",
      "\n",
      "rate_ticker"
     ],
     "language": "python",
     "metadata": {},
     "outputs": [
      {
       "metadata": {},
       "output_type": "pyout",
       "prompt_number": 11,
       "text": [
        "{'AU0003M',\n",
        " 'BP0003M',\n",
        " 'CD0003M',\n",
        " 'EUR003M',\n",
        " 'NIBOR3M',\n",
        " 'SF0003M',\n",
        " 'STIB3M',\n",
        " 'TI0003M',\n",
        " 'US0003M'}"
       ]
      }
     ],
     "prompt_number": 11
    },
    {
     "cell_type": "code",
     "collapsed": false,
     "input": [
      "spot_ticker=[x + ' Curncy' for x in spot_ticker]\n",
      "vol_ticker=[x + ' Index' for x in vol_ticker]\n",
      "domestic_rate_ticker=[x + ' Index' for x in domestic_rate_ticker]\n",
      "foreign_rate_ticker=[x + ' Index' for x in foreign_rate_ticker]\n",
      "rate_ticker=[x + ' Index' for x in rate_ticker]\n",
      "vol1M_ticker=[x + ' Index' for x in vol1M_ticker]\n",
      "vol1Y_ticker=[x + ' Index' for x in vol1Y_ticker]"
     ],
     "language": "python",
     "metadata": {},
     "outputs": [],
     "prompt_number": 12
    },
    {
     "cell_type": "code",
     "collapsed": false,
     "input": [
      "fields = ['PX_LAST'] \n",
      "program_name = 'gethistory'\n",
      "sd = start_date #after first run change the hard coded start date to variable start_date\n",
      "ed = today\n",
      "%time fxSpot = rap.request_bloomberg_data(spot_ticker,  fields, program_name, start=sd, end=ed)\n",
      "                                      "
     ],
     "language": "python",
     "metadata": {},
     "outputs": [
      {
       "output_type": "stream",
       "stream": "stdout",
       "text": [
        "Checking...\n",
        "Checking..."
       ]
      },
      {
       "output_type": "stream",
       "stream": "stdout",
       "text": [
        "\n",
        "Checking..."
       ]
      },
      {
       "output_type": "stream",
       "stream": "stdout",
       "text": [
        "\n",
        "Checking..."
       ]
      },
      {
       "output_type": "stream",
       "stream": "stdout",
       "text": [
        "\n",
        "Checking..."
       ]
      },
      {
       "output_type": "stream",
       "stream": "stdout",
       "text": [
        "\n",
        "Checking..."
       ]
      },
      {
       "output_type": "stream",
       "stream": "stdout",
       "text": [
        "\n",
        "Wall time: 1min 5s"
       ]
      },
      {
       "output_type": "stream",
       "stream": "stdout",
       "text": [
        "\n"
       ]
      }
     ],
     "prompt_number": 13
    },
    {
     "cell_type": "code",
     "collapsed": false,
     "input": [
      "fields = ['PX_LAST'] \n",
      "program_name = 'gethistory'\n",
      "sd = start_date #after first run change the hard coded start date to variable start_date\n",
      "ed = today\n",
      "%time fxVol = rap.request_bloomberg_data(vol_ticker, fields, program_name, start=sd, end=ed)\n",
      "\n"
     ],
     "language": "python",
     "metadata": {},
     "outputs": [
      {
       "output_type": "stream",
       "stream": "stdout",
       "text": [
        "Checking...\n",
        "Checking..."
       ]
      },
      {
       "output_type": "stream",
       "stream": "stdout",
       "text": [
        "\n",
        "Checking..."
       ]
      },
      {
       "output_type": "stream",
       "stream": "stdout",
       "text": [
        "\n",
        "Checking..."
       ]
      },
      {
       "output_type": "stream",
       "stream": "stdout",
       "text": [
        "\n",
        "Checking..."
       ]
      },
      {
       "output_type": "stream",
       "stream": "stdout",
       "text": [
        "\n",
        "Checking..."
       ]
      },
      {
       "output_type": "stream",
       "stream": "stdout",
       "text": [
        "\n",
        "Wall time: 1min 4s"
       ]
      },
      {
       "output_type": "stream",
       "stream": "stdout",
       "text": [
        "\n"
       ]
      }
     ],
     "prompt_number": 14
    },
    {
     "cell_type": "code",
     "collapsed": false,
     "input": [
      "program_name = 'gethistory'\n",
      "sd = start_date #after first run change the hard coded start date to variable start_date\n",
      "ed = today\n",
      "%time fxRate = rap.request_bloomberg_data(rate_ticker, fields, program_name, start=sd, end=ed)\n",
      "                                   "
     ],
     "language": "python",
     "metadata": {},
     "outputs": [
      {
       "output_type": "stream",
       "stream": "stdout",
       "text": [
        "Checking...\n",
        "Checking..."
       ]
      },
      {
       "output_type": "stream",
       "stream": "stdout",
       "text": [
        "\n",
        "Checking..."
       ]
      },
      {
       "output_type": "stream",
       "stream": "stdout",
       "text": [
        "\n",
        "Checking..."
       ]
      },
      {
       "output_type": "stream",
       "stream": "stdout",
       "text": [
        "\n",
        "Checking..."
       ]
      },
      {
       "output_type": "stream",
       "stream": "stdout",
       "text": [
        "\n",
        "Checking..."
       ]
      },
      {
       "output_type": "stream",
       "stream": "stdout",
       "text": [
        "\n",
        "Wall time: 1min 4s"
       ]
      },
      {
       "output_type": "stream",
       "stream": "stdout",
       "text": [
        "\n"
       ]
      }
     ],
     "prompt_number": 15
    },
    {
     "cell_type": "code",
     "collapsed": false,
     "input": [
      "fields = ['PX_LAST'] \n",
      "program_name = 'gethistory'\n",
      "sd = start_date #after first run change the hard coded start date to variable start_date\n",
      "ed = today\n",
      "%time fxVol1M = rap.request_bloomberg_data(vol1M_ticker, fields, program_name, start=sd, end=ed)\n",
      "                                    "
     ],
     "language": "python",
     "metadata": {},
     "outputs": [
      {
       "output_type": "stream",
       "stream": "stdout",
       "text": [
        "Checking...\n",
        "Checking..."
       ]
      },
      {
       "output_type": "stream",
       "stream": "stdout",
       "text": [
        "\n",
        "Checking..."
       ]
      },
      {
       "output_type": "stream",
       "stream": "stdout",
       "text": [
        "\n",
        "Checking..."
       ]
      },
      {
       "output_type": "stream",
       "stream": "stdout",
       "text": [
        "\n",
        "Checking..."
       ]
      },
      {
       "output_type": "stream",
       "stream": "stdout",
       "text": [
        "\n",
        "Checking..."
       ]
      },
      {
       "output_type": "stream",
       "stream": "stdout",
       "text": [
        "\n",
        "Wall time: 1min 3s"
       ]
      },
      {
       "output_type": "stream",
       "stream": "stdout",
       "text": [
        "\n"
       ]
      }
     ],
     "prompt_number": 16
    },
    {
     "cell_type": "code",
     "collapsed": false,
     "input": [
      "fields = ['PX_LAST'] \n",
      "program_name = 'gethistory'\n",
      "sd = start_date #after first run change the hard coded start date to variable start_date\n",
      "ed = today\n",
      "%time fxVol1Y = rap.request_bloomberg_data(vol1Y_ticker, fields, program_name, start=sd, end=ed)\n",
      "                                    "
     ],
     "language": "python",
     "metadata": {},
     "outputs": [
      {
       "output_type": "stream",
       "stream": "stdout",
       "text": [
        "Checking...\n",
        "Checking..."
       ]
      },
      {
       "output_type": "stream",
       "stream": "stdout",
       "text": [
        "\n",
        "Checking..."
       ]
      },
      {
       "output_type": "stream",
       "stream": "stdout",
       "text": [
        "\n",
        "Checking..."
       ]
      },
      {
       "output_type": "stream",
       "stream": "stdout",
       "text": [
        "\n",
        "Checking..."
       ]
      },
      {
       "output_type": "stream",
       "stream": "stdout",
       "text": [
        "\n",
        "Checking..."
       ]
      },
      {
       "output_type": "stream",
       "stream": "stdout",
       "text": [
        "\n",
        "Wall time: 1min 3s"
       ]
      },
      {
       "output_type": "stream",
       "stream": "stdout",
       "text": [
        "\n"
       ]
      }
     ],
     "prompt_number": 17
    },
    {
     "cell_type": "code",
     "collapsed": false,
     "input": [
      "fxRate.tail()"
     ],
     "language": "python",
     "metadata": {},
     "outputs": [
      {
       "html": [
        "<div style=\"max-height:1000px;max-width:1500px;overflow:auto;\">\n",
        "<table border=\"1\" class=\"dataframe\">\n",
        "  <thead>\n",
        "    <tr style=\"text-align: right;\">\n",
        "      <th></th>\n",
        "      <th>BP0003M_Index/PX_LAST</th>\n",
        "      <th>EUR003M_Index/PX_LAST</th>\n",
        "      <th>NIBOR3M_Index/PX_LAST</th>\n",
        "      <th>SF0003M_Index/PX_LAST</th>\n",
        "      <th>STIB3M_Index/PX_LAST</th>\n",
        "      <th>TI0003M_Index/PX_LAST</th>\n",
        "      <th>US0003M_Index/PX_LAST</th>\n",
        "    </tr>\n",
        "  </thead>\n",
        "  <tbody>\n",
        "    <tr>\n",
        "      <th>2013-11-27</th>\n",
        "      <td> 0.52344</td>\n",
        "      <td> 0.23</td>\n",
        "      <td> 1.68</td>\n",
        "      <td> 0.019</td>\n",
        "      <td> 1.092</td>\n",
        "      <td> 0.22091</td>\n",
        "      <td> 0.2376</td>\n",
        "    </tr>\n",
        "  </tbody>\n",
        "</table>\n",
        "</div>"
       ],
       "metadata": {},
       "output_type": "pyout",
       "prompt_number": 18,
       "text": [
        "           BP0003M_Index/PX_LAST EUR003M_Index/PX_LAST NIBOR3M_Index/PX_LAST  \\\n",
        "2013-11-27               0.52344                  0.23                  1.68   \n",
        "\n",
        "           SF0003M_Index/PX_LAST STIB3M_Index/PX_LAST TI0003M_Index/PX_LAST  \\\n",
        "2013-11-27                 0.019                1.092               0.22091   \n",
        "\n",
        "           US0003M_Index/PX_LAST  \n",
        "2013-11-27                0.2376  "
       ]
      }
     ],
     "prompt_number": 18
    },
    {
     "cell_type": "code",
     "collapsed": false,
     "input": [
      "resp = rap.create_authority('systematicVol', 'Series')"
     ],
     "language": "python",
     "metadata": {},
     "outputs": [],
     "prompt_number": 19
    },
    {
     "cell_type": "code",
     "collapsed": false,
     "input": [
      "for idx,column in enumerate(fxSpot):\n",
      "    newCol = (fxSpot.iloc[:,idx]).dropna()\n",
      "    resp = rap.put_series_data('systematicVol', newCol, prefix='fx/spot')\n"
     ],
     "language": "python",
     "metadata": {},
     "outputs": [],
     "prompt_number": 20
    },
    {
     "cell_type": "code",
     "collapsed": false,
     "input": [
      "for idx,column in enumerate(fxVol):\n",
      "    newCol = (fxVol.iloc[:,idx]).dropna()\n",
      "    resp = rap.put_series_data('systematicVol', newCol, prefix='fx/vol')"
     ],
     "language": "python",
     "metadata": {},
     "outputs": [],
     "prompt_number": 21
    },
    {
     "cell_type": "code",
     "collapsed": false,
     "input": [
      "\n",
      "for idx,column in enumerate(fxRate):\n",
      "    newCol = (fxRate.iloc[:,idx]).dropna()\n",
      "    resp = rap.put_series_data('systematicVol', newCol, prefix='fx/rate')"
     ],
     "language": "python",
     "metadata": {},
     "outputs": [],
     "prompt_number": 22
    },
    {
     "cell_type": "code",
     "collapsed": false,
     "input": [
      "for idx,column in enumerate(fxVol1M):\n",
      "    newCol = (fxVol1M.iloc[:,idx]).dropna()\n",
      "    resp = rap.put_series_data('systematicVol', newCol, prefix='fx/vol')\n",
      "    \n",
      "for idx,column in enumerate(fxVol1Y):\n",
      "    newCol = (fxVol1Y.iloc[:,idx]).dropna()\n",
      "    resp = rap.put_series_data('systematicVol', newCol, prefix='fx/vol')"
     ],
     "language": "python",
     "metadata": {},
     "outputs": [],
     "prompt_number": 23
    },
    {
     "cell_type": "code",
     "collapsed": false,
     "input": [
      "#rap.delete_authority('sytematicVol','Series')"
     ],
     "language": "python",
     "metadata": {},
     "outputs": [],
     "prompt_number": 24
    },
    {
     "cell_type": "code",
     "collapsed": false,
     "input": [
      "spot_ticker=[('fx/spot/'+ x + '/PX_LAST').replace(' ','_')  for x in spot_ticker]\n",
      "rate_ticker=[('fx/rate/'+ x + '/PX_LAST').replace(' ','_')  for x in rate_ticker]\n",
      "vol_ticker=[('fx/vol/'+ x + '/PX_LAST').replace(' ','_')  for x in vol_ticker]\n",
      "vol1M_ticker=[('fx/vol/'+ x + '/PX_LAST').replace(' ','_')  for x in vol1M_ticker]\n",
      "vol1Y_ticker=[('fx/vol/'+ x + '/PX_LAST').replace(' ','_')  for x in vol1Y_ticker]\n"
     ],
     "language": "python",
     "metadata": {},
     "outputs": [],
     "prompt_number": 25
    },
    {
     "cell_type": "code",
     "collapsed": false,
     "input": [
      "uris = spot_ticker+rate_ticker+vol_ticker+vol1M_ticker+vol1Y_ticker\n",
      "\n",
      "\n",
      "resp = rap.get_series_data('systematicVol',  uris,start='19950101',end=today)\n",
      "resp = resp.ffill() #forward fill the gaps in data\n"
     ],
     "language": "python",
     "metadata": {},
     "outputs": [],
     "prompt_number": 26
    },
    {
     "cell_type": "code",
     "collapsed": false,
     "input": [
      "resp.columns=[x.split('/')[2].replace('_',' ') for x in resp.columns]"
     ],
     "language": "python",
     "metadata": {},
     "outputs": [],
     "prompt_number": 27
    },
    {
     "cell_type": "code",
     "collapsed": false,
     "input": [
      "resp.to_csv(params.inputcsvdir+'\\FXVolData.csv',mode='w', header=True)"
     ],
     "language": "python",
     "metadata": {},
     "outputs": [],
     "prompt_number": 28
    },
    {
     "cell_type": "code",
     "collapsed": false,
     "input": [],
     "language": "python",
     "metadata": {},
     "outputs": [],
     "prompt_number": 28
    }
   ],
   "metadata": {}
  }
 ]
}