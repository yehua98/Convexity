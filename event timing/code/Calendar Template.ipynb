{
 "metadata": {
  "name": ""
 },
 "nbformat": 3,
 "nbformat_minor": 0,
 "worksheets": [
  {
   "cells": [
    {
     "cell_type": "code",
     "collapsed": false,
     "input": [
      "set_printoptions(threshold=10000)\n",
      "import pandas as pd\n",
      "import numpy as np\n",
      "import os\n",
      "import sys\n",
      "import ConfigParser\n",
      "from pandas import datetime\n",
      "from datetime import time, date\n",
      "\n",
      "# read the configuration file and set the path to IDPResearch directory\n",
      "config = ConfigParser.RawConfigParser()\n",
      "config.read(os.path.abspath('C:\\Users\\Hua\\github\\SystematicStrategies\\idpresearch.cfg'))\n",
      "sys.path.append(os.path.abspath(config.get('IDPResearch','path')))\n",
      "\n",
      "from idpresearch import *"
     ],
     "language": "python",
     "metadata": {},
     "outputs": [],
     "prompt_number": 1
    },
    {
     "cell_type": "code",
     "collapsed": false,
     "input": [
      "inputcsvdir = os.path.abspath('../data/GE/')\n",
      "outputcsvdir = os.path.abspath('../data/')\n",
      "df= pd.read_excel(inputcsvdir + '\\\\GE_template.xlsx', 'Sheet1')\n",
      "\n",
      "#set the datatime index\n",
      "#date_time = pd.to_datetime(df.Date + ' '+ df.Time)\n",
      "#df.set_index(date_time, inplace=True)"
     ],
     "language": "python",
     "metadata": {},
     "outputs": [],
     "prompt_number": 120
    },
    {
     "cell_type": "code",
     "collapsed": false,
     "input": [
      "df['Event'] = df['Event'].map(lambda x: x.replace('EUR', 'EU '))\n",
      "df.tail()"
     ],
     "language": "python",
     "metadata": {},
     "outputs": [
      {
       "html": [
        "<div style=\"max-height:1000px;max-width:1500px;overflow:auto;\">\n",
        "<table border=\"1\" class=\"dataframe\">\n",
        "  <thead>\n",
        "    <tr style=\"text-align: right;\">\n",
        "      <th></th>\n",
        "      <th>Date</th>\n",
        "      <th>Event</th>\n",
        "      <th>IIB</th>\n",
        "      <th>Tenor</th>\n",
        "      <th>Yield</th>\n",
        "      <th>Size</th>\n",
        "      <th>Bid/Cover</th>\n",
        "      <th>Tail</th>\n",
        "    </tr>\n",
        "  </thead>\n",
        "  <tbody>\n",
        "    <tr>\n",
        "      <th>242</th>\n",
        "      <td> 08/21/2013 11:30</td>\n",
        "      <td> Germany Sells EU 4.0922 Bln 0.25% 2015 Bonds; ...</td>\n",
        "      <td> 0</td>\n",
        "      <td>  2</td>\n",
        "      <td>NaN</td>\n",
        "      <td>NaN</td>\n",
        "      <td>NaN</td>\n",
        "      <td>NaN</td>\n",
        "    </tr>\n",
        "    <tr>\n",
        "      <th>243</th>\n",
        "      <td> 09/04/2013 11:30</td>\n",
        "      <td>  Germany Sells EU 4.039 Bln 1% 2018 Bonds; Yld 1%</td>\n",
        "      <td> 0</td>\n",
        "      <td>  5</td>\n",
        "      <td>NaN</td>\n",
        "      <td>NaN</td>\n",
        "      <td>NaN</td>\n",
        "      <td>NaN</td>\n",
        "    </tr>\n",
        "    <tr>\n",
        "      <th>244</th>\n",
        "      <td> 09/10/2013 11:30</td>\n",
        "      <td> Germany Sells EU 910 Mln 0.1% I/L 2023 Bonds; ...</td>\n",
        "      <td> 1</td>\n",
        "      <td> 10</td>\n",
        "      <td>NaN</td>\n",
        "      <td>NaN</td>\n",
        "      <td>NaN</td>\n",
        "      <td>NaN</td>\n",
        "    </tr>\n",
        "    <tr>\n",
        "      <th>245</th>\n",
        "      <td> 09/11/2013 11:30</td>\n",
        "      <td> Germany Sells EU 4.07635 Bln 2% 2023 Bonds; Yl...</td>\n",
        "      <td> 0</td>\n",
        "      <td> 10</td>\n",
        "      <td>NaN</td>\n",
        "      <td>NaN</td>\n",
        "      <td>NaN</td>\n",
        "      <td>NaN</td>\n",
        "    </tr>\n",
        "    <tr>\n",
        "      <th>246</th>\n",
        "      <td> 09/18/2013 11:30</td>\n",
        "      <td> Germany to Sell EU 5 Bln 0.25% 2015 Bonds DE00...</td>\n",
        "      <td> 0</td>\n",
        "      <td>  2</td>\n",
        "      <td>NaN</td>\n",
        "      <td>NaN</td>\n",
        "      <td>NaN</td>\n",
        "      <td>NaN</td>\n",
        "    </tr>\n",
        "  </tbody>\n",
        "</table>\n",
        "</div>"
       ],
       "metadata": {},
       "output_type": "pyout",
       "prompt_number": 121,
       "text": [
        "                 Date                                              Event  IIB  \\\n",
        "242  08/21/2013 11:30  Germany Sells EU 4.0922 Bln 0.25% 2015 Bonds; ...    0   \n",
        "243  09/04/2013 11:30   Germany Sells EU 4.039 Bln 1% 2018 Bonds; Yld 1%    0   \n",
        "244  09/10/2013 11:30  Germany Sells EU 910 Mln 0.1% I/L 2023 Bonds; ...    1   \n",
        "245  09/11/2013 11:30  Germany Sells EU 4.07635 Bln 2% 2023 Bonds; Yl...    0   \n",
        "246  09/18/2013 11:30  Germany to Sell EU 5 Bln 0.25% 2015 Bonds DE00...    0   \n",
        "\n",
        "     Tenor  Yield  Size  Bid/Cover  Tail  \n",
        "242      2    NaN   NaN        NaN   NaN  \n",
        "243      5    NaN   NaN        NaN   NaN  \n",
        "244     10    NaN   NaN        NaN   NaN  \n",
        "245     10    NaN   NaN        NaN   NaN  \n",
        "246      2    NaN   NaN        NaN   NaN  "
       ]
      }
     ],
     "prompt_number": 121
    },
    {
     "cell_type": "code",
     "collapsed": false,
     "input": [
      "def parse_to_get_size(s, ccy):  \n",
      "    if (\"Bln\" in s) or (\"BLN\" in s) or (\"Billion\" in s):\n",
      "        s = s.replace('BLN', 'Bln')\n",
      "        s = s.replace('Billion', 'Bln')\n",
      "        y = float(s.split(\" Bln\")[0].split(ccy)[1].replace(' ', ''))\n",
      "    elif (\"Mln\" in s) or (\"MLN\" in s) :\n",
      "        s = s.replace('MLN', 'Mln')\n",
      "        y = float(s.split(\" Mln\")[0].split(ccy)[1].replace(' ', '')) / 1000\n",
      "    else:\n",
      "        y = np.nan\n",
      "    return y"
     ],
     "language": "python",
     "metadata": {},
     "outputs": [],
     "prompt_number": 52
    },
    {
     "cell_type": "code",
     "collapsed": false,
     "input": [
      "def parse_to_get_yield(s):\n",
      "    if (\"Yld\" in s) or (\"YLD\" in s) :\n",
      "        s = s.replace('YLD', 'Yld')\n",
      "        y = float(s.split(\"Yld \")[1].split(\"%\")[0].replace(' ', '')) / 100\n",
      "    elif (\"Yield\" in s) or (\"YIELD\" in s):\n",
      "        s = s.replace('YIELD', 'Yield')\n",
      "        y = float(s.split(\"Yield \")[1].split(\"%\")[0].replace(' ', '')) / 100\n",
      "    else:\n",
      "        y = np.nan\n",
      "    return y"
     ],
     "language": "python",
     "metadata": {},
     "outputs": [],
     "prompt_number": 41
    },
    {
     "cell_type": "code",
     "collapsed": false,
     "input": [
      "for i in range(len(df)):\n",
      "    parse_to_get_size(df['Event'].ix[i], \"EU\")"
     ],
     "language": "python",
     "metadata": {},
     "outputs": [],
     "prompt_number": 100
    },
    {
     "cell_type": "code",
     "collapsed": false,
     "input": [
      "for i in range(len(df)):\n",
      "    parse_to_get_yield(df['Event'].ix[i])"
     ],
     "language": "python",
     "metadata": {},
     "outputs": [],
     "prompt_number": 119
    },
    {
     "cell_type": "code",
     "collapsed": false,
     "input": [
      "df['Event'].ix[i]\n",
      "i"
     ],
     "language": "python",
     "metadata": {},
     "outputs": [
      {
       "metadata": {},
       "output_type": "pyout",
       "prompt_number": 117,
       "text": [
        "151"
       ]
      }
     ],
     "prompt_number": 117
    },
    {
     "cell_type": "code",
     "collapsed": false,
     "input": [
      "df['Size'] = df['Event'].apply(parse_to_get_size, args=(\"EU\",))"
     ],
     "language": "python",
     "metadata": {},
     "outputs": [],
     "prompt_number": 122
    },
    {
     "cell_type": "code",
     "collapsed": false,
     "input": [
      "df['Yield'] = df['Event'].map(parse_to_get_yield)"
     ],
     "language": "python",
     "metadata": {},
     "outputs": [],
     "prompt_number": 123
    },
    {
     "cell_type": "code",
     "collapsed": false,
     "input": [
      "df.tail()"
     ],
     "language": "python",
     "metadata": {},
     "outputs": [
      {
       "html": [
        "<div style=\"max-height:1000px;max-width:1500px;overflow:auto;\">\n",
        "<table border=\"1\" class=\"dataframe\">\n",
        "  <thead>\n",
        "    <tr style=\"text-align: right;\">\n",
        "      <th></th>\n",
        "      <th>Date</th>\n",
        "      <th>Event</th>\n",
        "      <th>IIB</th>\n",
        "      <th>Tenor</th>\n",
        "      <th>Yield</th>\n",
        "      <th>Size</th>\n",
        "      <th>Bid/Cover</th>\n",
        "      <th>Tail</th>\n",
        "    </tr>\n",
        "  </thead>\n",
        "  <tbody>\n",
        "    <tr>\n",
        "      <th>242</th>\n",
        "      <td> 08/21/2013 11:30</td>\n",
        "      <td> Germany Sells EU 4.0922 Bln 0.25% 2015 Bonds; ...</td>\n",
        "      <td> 0</td>\n",
        "      <td>  2</td>\n",
        "      <td> 0.0023</td>\n",
        "      <td> 4.09220</td>\n",
        "      <td>NaN</td>\n",
        "      <td>NaN</td>\n",
        "    </tr>\n",
        "    <tr>\n",
        "      <th>243</th>\n",
        "      <td> 09/04/2013 11:30</td>\n",
        "      <td>  Germany Sells EU 4.039 Bln 1% 2018 Bonds; Yld 1%</td>\n",
        "      <td> 0</td>\n",
        "      <td>  5</td>\n",
        "      <td> 0.0100</td>\n",
        "      <td> 4.03900</td>\n",
        "      <td>NaN</td>\n",
        "      <td>NaN</td>\n",
        "    </tr>\n",
        "    <tr>\n",
        "      <th>244</th>\n",
        "      <td> 09/10/2013 11:30</td>\n",
        "      <td> Germany Sells EU 910 Mln 0.1% I/L 2023 Bonds; ...</td>\n",
        "      <td> 1</td>\n",
        "      <td> 10</td>\n",
        "      <td> 0.0036</td>\n",
        "      <td> 0.91000</td>\n",
        "      <td>NaN</td>\n",
        "      <td>NaN</td>\n",
        "    </tr>\n",
        "    <tr>\n",
        "      <th>245</th>\n",
        "      <td> 09/11/2013 11:30</td>\n",
        "      <td> Germany Sells EU 4.07635 Bln 2% 2023 Bonds; Yl...</td>\n",
        "      <td> 0</td>\n",
        "      <td> 10</td>\n",
        "      <td> 0.0206</td>\n",
        "      <td> 4.07635</td>\n",
        "      <td>NaN</td>\n",
        "      <td>NaN</td>\n",
        "    </tr>\n",
        "    <tr>\n",
        "      <th>246</th>\n",
        "      <td> 09/18/2013 11:30</td>\n",
        "      <td> Germany to Sell EU 5 Bln 0.25% 2015 Bonds DE00...</td>\n",
        "      <td> 0</td>\n",
        "      <td>  2</td>\n",
        "      <td>    NaN</td>\n",
        "      <td> 5.00000</td>\n",
        "      <td>NaN</td>\n",
        "      <td>NaN</td>\n",
        "    </tr>\n",
        "  </tbody>\n",
        "</table>\n",
        "</div>"
       ],
       "metadata": {},
       "output_type": "pyout",
       "prompt_number": 124,
       "text": [
        "                 Date                                              Event  IIB  \\\n",
        "242  08/21/2013 11:30  Germany Sells EU 4.0922 Bln 0.25% 2015 Bonds; ...    0   \n",
        "243  09/04/2013 11:30   Germany Sells EU 4.039 Bln 1% 2018 Bonds; Yld 1%    0   \n",
        "244  09/10/2013 11:30  Germany Sells EU 910 Mln 0.1% I/L 2023 Bonds; ...    1   \n",
        "245  09/11/2013 11:30  Germany Sells EU 4.07635 Bln 2% 2023 Bonds; Yl...    0   \n",
        "246  09/18/2013 11:30  Germany to Sell EU 5 Bln 0.25% 2015 Bonds DE00...    0   \n",
        "\n",
        "     Tenor   Yield     Size  Bid/Cover  Tail  \n",
        "242      2  0.0023  4.09220        NaN   NaN  \n",
        "243      5  0.0100  4.03900        NaN   NaN  \n",
        "244     10  0.0036  0.91000        NaN   NaN  \n",
        "245     10  0.0206  4.07635        NaN   NaN  \n",
        "246      2     NaN  5.00000        NaN   NaN  "
       ]
      }
     ],
     "prompt_number": 124
    },
    {
     "cell_type": "code",
     "collapsed": false,
     "input": [
      "#output\n",
      "\n",
      "df.to_csv(outputcsvdir + '\\\\GE_template' + '.csv', index = False)\n",
      "\n"
     ],
     "language": "python",
     "metadata": {},
     "outputs": [],
     "prompt_number": 125
    }
   ],
   "metadata": {}
  }
 ]
}