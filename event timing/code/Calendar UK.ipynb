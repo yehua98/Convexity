{
 "metadata": {
  "name": ""
 },
 "nbformat": 3,
 "nbformat_minor": 0,
 "worksheets": [
  {
   "cells": [
    {
     "cell_type": "code",
     "collapsed": false,
     "input": [
      "set_printoptions(threshold=10000)\n",
      "import pandas as pd\n",
      "import numpy as np\n",
      "import os\n",
      "import sys\n",
      "import ConfigParser\n",
      "from pandas import datetime\n",
      "from datetime import time, date\n",
      "\n",
      "# read the configuration file and set the path to IDPResearch directory\n",
      "config = ConfigParser.RawConfigParser()\n",
      "config.read(os.path.abspath('E:\\github\\SystematicStrategies\\idpresearch.cfg'))\n",
      "sys.path.append(os.path.abspath(config.get('IDPResearch','path')))\n",
      "\n",
      "from idpresearch import *"
     ],
     "language": "python",
     "metadata": {},
     "outputs": [],
     "prompt_number": 1
    },
    {
     "cell_type": "code",
     "collapsed": false,
     "input": [
      "inputcsvdir = os.path.abspath('../data/UK/')\n",
      "outputcsvdir = os.path.abspath('../data/')\n",
      "df= pd.read_csv(inputcsvdir + '\\\\UK_template.csv', index_col= 0, parse_dates= True, infer_datetime_format= True)\n",
      "df['Event'] = df['Event'].map(lambda x: x.lower())"
     ],
     "language": "python",
     "metadata": {},
     "outputs": [],
     "prompt_number": 7
    },
    {
     "cell_type": "code",
     "collapsed": false,
     "input": [
      "def parse_to_get_size(s, ccy):\n",
      "    if (\"bln\" in s) or (\"billion\" in s):\n",
      "        s = s.replace('billion', 'bln')\n",
      "        y = float(s.split(\" bln\")[0].split(ccy)[1].replace(' ', ''))\n",
      "    elif (\"mln\" in s) or (\"millian\" in s) :\n",
      "        s = s.replace('millian', 'mln')\n",
      "        y = float(s.split(\" mln\")[0].split(ccy)[1].replace(' ', '')) / 1000\n",
      "    else:\n",
      "        y = np.nan\n",
      "    return y\n",
      "def parse_to_get_yield(s):\n",
      "    if (\"yld\" in s):\n",
      "        y = float(s.split(\"yld \")[1].split(\"%\")[0].replace(' ', '')) / 100\n",
      "    elif (\"yield\" in s):\n",
      "        y = float(s.split(\"yield \")[1].split(\"%\")[0].replace(' ', '')) / 100\n",
      "    else:\n",
      "        y = np.nan\n",
      "    return y\n",
      "def parse_to_get_maturity(s):\n",
      "    if('notes' in s):\n",
      "        s = s.replace('notes', 'bonds')\n",
      "        y = int(s.split(\" bonds\")[0].split(' ')[-1])\n",
      "    elif (\"bonds\" in s):\n",
      "        y = int(s.split(\" bonds\")[0].split(' ')[-1])\n",
      "    else:\n",
      "        y = np.nan\n",
      "    return y\n",
      "def parse_to_get_iib(s):\n",
      "    if (\"i/l\" in s) or (\"inflation\" in s) or (\"link\" in s)  :\n",
      "        y = 1\n",
      "    else:\n",
      "        y = 0\n",
      "    return y"
     ],
     "language": "python",
     "metadata": {},
     "outputs": [],
     "prompt_number": 10
    },
    {
     "cell_type": "code",
     "collapsed": false,
     "input": [
      "#update\n",
      "df_new = pd.read_csv(inputcsvdir + '\\\\UK_2013-2014.csv')\n",
      "df_new = df_new[['Date Time', 'Event']]\n",
      "df_new = df_new.dropna(how = 'any')\n",
      "df_new['Date Time']= pd.to_datetime(df_new['Date Time'])\n",
      "df_new = df_new.set_index(['Date Time'])\n",
      "df_new['Event'] = df_new['Event'].map(lambda x: x.lower())"
     ],
     "language": "python",
     "metadata": {},
     "outputs": [],
     "prompt_number": 13
    },
    {
     "cell_type": "code",
     "collapsed": false,
     "input": [
      "df_new.tail()"
     ],
     "language": "python",
     "metadata": {},
     "outputs": [
      {
       "html": [
        "<div style=\"max-height:1000px;max-width:1500px;overflow:auto;\">\n",
        "<table border=\"1\" class=\"dataframe\">\n",
        "  <thead>\n",
        "    <tr style=\"text-align: right;\">\n",
        "      <th></th>\n",
        "      <th>Event</th>\n",
        "    </tr>\n",
        "    <tr>\n",
        "      <th>Date Time</th>\n",
        "      <th></th>\n",
        "    </tr>\n",
        "  </thead>\n",
        "  <tbody>\n",
        "    <tr>\n",
        "      <th>2014-02-11 10:30:00</th>\n",
        "      <td> u.k. sells gbp1.3 bln 0.125% i/l 2024 bonds; y...</td>\n",
        "    </tr>\n",
        "    <tr>\n",
        "      <th>2014-02-13 10:30:00</th>\n",
        "      <td>         u.k. to sell gbp1.75 bln 3.75% 2052 bonds</td>\n",
        "    </tr>\n",
        "    <tr>\n",
        "      <th>2014-02-14 11:00:00</th>\n",
        "      <td>              u.k. to sell gbp500 mln 28-day bills</td>\n",
        "    </tr>\n",
        "    <tr>\n",
        "      <th>2014-02-14 11:00:00</th>\n",
        "      <td>                u.k. to sell gbp1 bln 91-day bills</td>\n",
        "    </tr>\n",
        "    <tr>\n",
        "      <th>2014-02-14 11:00:00</th>\n",
        "      <td>  u.k. to sell gbp1.5 bln 182-day bills on feb. 14</td>\n",
        "    </tr>\n",
        "  </tbody>\n",
        "</table>\n",
        "<p>5 rows \u00d7 1 columns</p>\n",
        "</div>"
       ],
       "metadata": {},
       "output_type": "pyout",
       "prompt_number": 14,
       "text": [
        "                                                                 Event\n",
        "Date Time                                                             \n",
        "2014-02-11 10:30:00  u.k. sells gbp1.3 bln 0.125% i/l 2024 bonds; y...\n",
        "2014-02-13 10:30:00          u.k. to sell gbp1.75 bln 3.75% 2052 bonds\n",
        "2014-02-14 11:00:00               u.k. to sell gbp500 mln 28-day bills\n",
        "2014-02-14 11:00:00                 u.k. to sell gbp1 bln 91-day bills\n",
        "2014-02-14 11:00:00   u.k. to sell gbp1.5 bln 182-day bills on feb. 14\n",
        "\n",
        "[5 rows x 1 columns]"
       ]
      }
     ],
     "prompt_number": 14
    },
    {
     "cell_type": "code",
     "collapsed": false,
     "input": [
      "idx = [(\"sell\" in x) and (\"bond\" in x) for x in df_new['Event']]\n",
      "df_new = df_new.ix[idx, :]\n",
      "df_new['Maturity'] = df_new['Event'].map(parse_to_get_maturity)\n",
      "df_new['IIB'] = df_new['Event'].map(parse_to_get_iib)\n",
      "df_new['Yield'] = df_new['Event'].map(parse_to_get_yield)\n",
      "df_new['Size'] = df_new['Event'].apply(parse_to_get_size, args=(\"gbp\",))\n",
      "df_new['Bid/Cover'] = np.nan\n",
      "df_new['Tail']= np.nan\n",
      "df_new['Year Today'] = [x.year for x in df_new.index]\n",
      "df_new['Tenor'] = df_new['Maturity'] - df_new['Year Today']\n",
      "df_new = df_new[['Event', 'IIB', 'Tenor', 'Yield', 'Size', 'Bid/Cover', 'Tail']]"
     ],
     "language": "python",
     "metadata": {},
     "outputs": [],
     "prompt_number": 19
    },
    {
     "cell_type": "code",
     "collapsed": false,
     "input": [
      "df_all = pd.concat([df, df_new], axis = 0)\n",
      "df_all.to_csv(inputcsvdir + '\\\\UK_updated.csv')"
     ],
     "language": "python",
     "metadata": {},
     "outputs": [],
     "prompt_number": 23
    }
   ],
   "metadata": {}
  }
 ]
}