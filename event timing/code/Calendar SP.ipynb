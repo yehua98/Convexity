{
 "metadata": {
  "name": ""
 },
 "nbformat": 3,
 "nbformat_minor": 0,
 "worksheets": [
  {
   "cells": [
    {
     "cell_type": "code",
     "collapsed": false,
     "input": [
      "set_printoptions(threshold=10000)\n",
      "import pandas as pd\n",
      "import numpy as np\n",
      "import os\n",
      "import sys\n",
      "import ConfigParser\n",
      "from pandas import datetime\n",
      "from datetime import time, date\n",
      "\n",
      "# read the configuration file and set the path to IDPResearch directory\n",
      "config = ConfigParser.RawConfigParser()\n",
      "config.read(os.path.abspath('E:\\github\\SystematicStrategies\\idpresearch.cfg'))\n",
      "sys.path.append(os.path.abspath(config.get('IDPResearch','libpath_windows')))\n",
      "from idpresearch import *"
     ],
     "language": "python",
     "metadata": {},
     "outputs": [],
     "prompt_number": 1
    },
    {
     "cell_type": "code",
     "collapsed": false,
     "input": [
      "def parse_to_get_size(s, ccy):\n",
      "    if (\"bln\" in s) or (\"billion\" in s):\n",
      "        s = s.replace('billion', 'bln')\n",
      "        y = float(s.split(\"bln\")[0].split(ccy)[1].replace(' ', ''))\n",
      "    elif (\"mln\" in s) or (\"million\" in s):\n",
      "        s = s.replace('million', 'mln')\n",
      "        y = float(s.split(\"mln\")[0].split(ccy)[1].replace(' ', '')) / 1000\n",
      "    elif (\"tln\" in s) or (\"tillion\" in s):\n",
      "        s = s.replace('tillion', 'tln')\n",
      "        y = float(s.split(\"tln\")[0].split(ccy)[1].replace(' ', '')) * 1000\n",
      "    else:\n",
      "        y = np.nan\n",
      "    return y\n",
      "def parse_to_get_yield(s):\n",
      "    if (\"yld\" in s):\n",
      "        if(\"=\" in s):\n",
      "            y = float(s.split(\"yld=\")[1].split(\"%\")[0].replace(' ', '')) / 100\n",
      "        else:\n",
      "            y = float(s.split(\"yld\")[1].split(\"%\")[0].replace(' ', '')) / 100\n",
      "    elif (\"yield\" in s):\n",
      "        y = float(s.split(\"yield \")[1].split(\"%\")[0].replace(' ', '')) / 100\n",
      "    else:\n",
      "        y = np.nan\n",
      "    return y\n",
      "def parse_to_get_tenor(s):\n",
      "    if (\"-year\" in s) :\n",
      "        y = int(s.split(\"-year\")[0].split(\" \")[-1])\n",
      "    elif (\"year\" in s):\n",
      "        s = s.replace(' year', '-year')\n",
      "        y = int(s.split(\"-year\")[0].split(\" \")[-1])\n",
      "    elif (\"-yr\" in s):\n",
      "        s = s.replace('-yr', '-year')\n",
      "        y = int(s.split(\"-year\")[0].split(\" \")[-1])        \n",
      "    else:\n",
      "        y = np.nan\n",
      "    return y\n",
      "def parse_to_get_iib(s):\n",
      "    if (\"tips\" in s) or (\"link\" in s) or ('frn' in s) or ('floating' in s) or ('i/l' in s):\n",
      "        y = 1\n",
      "    else:\n",
      "        y = 0\n",
      "    return y\n",
      "def parse_to_get_maturity(s):\n",
      "    if('notes' in s):\n",
      "        s = s.replace('notes', 'bonds')\n",
      "        y = int(s.split(\" bonds\")[0].split(' ')[-1])\n",
      "    elif (\"bonds\" in s):\n",
      "        y = int(s.split(\" bonds\")[0].split(' ')[-1])\n",
      "    else:\n",
      "        y = np.nan\n",
      "    return y"
     ],
     "language": "python",
     "metadata": {},
     "outputs": [],
     "prompt_number": 15
    },
    {
     "cell_type": "code",
     "collapsed": false,
     "input": [
      "inputcsvdir = os.path.abspath('../data/SP/')\n",
      "outputcsvdir = os.path.abspath('../data/')\n",
      "df_new= pd.read_csv(inputcsvdir + '\\\\'+ 'SP.csv')\n",
      "df_new = df_new[['Date Time', 'Event']]\n",
      "df_new = df_new.dropna(how = 'any')\n",
      "df_new['Date Time']= pd.to_datetime(df_new['Date Time'])\n",
      "df_new = df_new.set_index(['Date Time'])\n",
      "df_new['Event'] = df_new['Event'].map(lambda x: x.lower())"
     ],
     "language": "python",
     "metadata": {},
     "outputs": [],
     "prompt_number": 28
    },
    {
     "cell_type": "code",
     "collapsed": false,
     "input": [
      "idx = [ (\"spain\" in x) and (\"sell\" in x) and (\"bond\" in x) for x in df_new['Event']]\n",
      "df_new = df_new.ix[idx, :]\n",
      "df_new['Maturity'] = df_new['Event'].map(parse_to_get_maturity)\n",
      "df_new['IIB'] = df_new['Event'].map(parse_to_get_iib)\n",
      "df_new['Yield'] = df_new['Event'].map(parse_to_get_yield)\n",
      "df_new['Size'] = df_new['Event'].apply(parse_to_get_size, args=(\"eur\",))\n",
      "df_new['Bid/Cover'] = np.nan\n",
      "df_new['Tail']= np.nan\n",
      "df_new['Year Today'] = [x.year for x in df_new.index]\n",
      "df_new['Tenor'] = df_new['Maturity'] - df_new['Year Today']\n",
      "df_new = df_new[['Event', 'IIB', 'Tenor', 'Yield', 'Size', 'Bid/Cover', 'Tail']]"
     ],
     "language": "python",
     "metadata": {},
     "outputs": [],
     "prompt_number": 31
    },
    {
     "cell_type": "code",
     "collapsed": false,
     "input": [
      "for i in range(len(df_new)):\n",
      "    parse_to_get_size(df_new['Event'][i], 'eur')"
     ],
     "language": "python",
     "metadata": {},
     "outputs": [],
     "prompt_number": 30
    },
    {
     "cell_type": "code",
     "collapsed": false,
     "input": [
      "df_all = pd.concat([df_new], axis = 0) \n",
      "df_all.to_csv(inputcsvdir + '\\\\SP_updated.csv')"
     ],
     "language": "python",
     "metadata": {},
     "outputs": [],
     "prompt_number": 33
    }
   ],
   "metadata": {}
  }
 ]
}